{
  "nbformat": 4,
  "nbformat_minor": 0,
  "metadata": {
    "colab": {
      "provenance": [],
      "mount_file_id": "1OhqJi_YPBCcLo5j29hgEk82mjwkDcK5a",
      "authorship_tag": "ABX9TyMzb/TNgPSTYJlxzv/E8dfj",
      "include_colab_link": true
    },
    "kernelspec": {
      "name": "python3",
      "display_name": "Python 3"
    },
    "language_info": {
      "name": "python"
    }
  },
  "cells": [
    {
      "cell_type": "markdown",
      "metadata": {
        "id": "view-in-github",
        "colab_type": "text"
      },
      "source": [
        "<a href=\"https://colab.research.google.com/github/auzaluis/upsa_mod_202402/blob/main/personalidad/01-script-ETL-personalidad.ipynb\" target=\"_parent\"><img src=\"https://colab.research.google.com/assets/colab-badge.svg\" alt=\"Open In Colab\"/></a>"
      ]
    },
    {
      "cell_type": "markdown",
      "source": [
        "### **Tema 01: Carga de datos**"
      ],
      "metadata": {
        "id": "fhOToKlWAX-g"
      }
    },
    {
      "cell_type": "markdown",
      "source": [
        "### **Importando base de datos**"
      ],
      "metadata": {
        "id": "JCKp5xlmgNrG"
      }
    },
    {
      "cell_type": "code",
      "source": [
        "# Google Auth\n",
        "from google.colab import auth\n",
        "auth.authenticate_user()"
      ],
      "metadata": {
        "id": "SILnGnRhAnre"
      },
      "execution_count": null,
      "outputs": []
    },
    {
      "cell_type": "code",
      "source": [
        "# API Client\n",
        "from google.auth import default\n",
        "creds, _ = default()"
      ],
      "metadata": {
        "id": "QXfzjR_VgmST"
      },
      "execution_count": null,
      "outputs": []
    },
    {
      "cell_type": "code",
      "source": [
        "# gspread authorization\n",
        "import gspread\n",
        "gc = gspread.authorize(creds)"
      ],
      "metadata": {
        "id": "RPXMkJsIhXlY"
      },
      "execution_count": null,
      "outputs": []
    },
    {
      "cell_type": "code",
      "source": [
        "# Accediendo al Google Sheet\n",
        "url_personalidad = \"https://docs.google.com/spreadsheets/d/1IQ_RxxTSmBKHTExlxboIRNlMov_F6RyqdcOPrflCv_w/edit?usp=sharing\"\n",
        "gsheets = gc.open_by_url(url_personalidad)\n",
        "sheets = gsheets.worksheet(\"Respuestas de formulario 1\").get_all_values()"
      ],
      "metadata": {
        "id": "ttbYU0aAhZZH"
      },
      "execution_count": null,
      "outputs": []
    },
    {
      "cell_type": "code",
      "source": [
        "type(sheets)"
      ],
      "metadata": {
        "id": "o2LqAVp2kmQW"
      },
      "execution_count": null,
      "outputs": []
    },
    {
      "cell_type": "code",
      "source": [
        "# Convirtiendo la lista en df\n",
        "import pandas as pd\n",
        "df = pd.DataFrame(sheets[1:], columns=sheets[0])"
      ],
      "metadata": {
        "id": "jr1WfohlltXm"
      },
      "execution_count": null,
      "outputs": []
    },
    {
      "cell_type": "markdown",
      "source": [
        "### **Inspección data frame**"
      ],
      "metadata": {
        "id": "psb8qqcapUFs"
      }
    },
    {
      "cell_type": "code",
      "source": [
        "type(df)"
      ],
      "metadata": {
        "id": "geaOJ0rVlx_O"
      },
      "execution_count": null,
      "outputs": []
    },
    {
      "cell_type": "code",
      "source": [
        "# Ver cantidad de filas y columnas\n",
        "df.shape"
      ],
      "metadata": {
        "id": "Aw2MbZEQmJG1"
      },
      "execution_count": null,
      "outputs": []
    },
    {
      "cell_type": "code",
      "source": [
        "# Ver primeras filas\n",
        "df.head()"
      ],
      "metadata": {
        "id": "prCBIZJlptLi"
      },
      "execution_count": null,
      "outputs": []
    },
    {
      "cell_type": "code",
      "source": [
        "# Ver info general y nombre de columas\n",
        "df.info()"
      ],
      "metadata": {
        "id": "6Gb8u5Zap6AC"
      },
      "execution_count": null,
      "outputs": []
    },
    {
      "cell_type": "code",
      "source": [
        "# Tipo de datos\n",
        "df['Sexo'].dtype"
      ],
      "metadata": {
        "id": "vtr-yLtWqFth"
      },
      "execution_count": null,
      "outputs": []
    },
    {
      "cell_type": "code",
      "source": [
        "# Número de filas\n",
        "len(df)"
      ],
      "metadata": {
        "id": "0xOIjtbiqbUQ"
      },
      "execution_count": null,
      "outputs": []
    },
    {
      "cell_type": "code",
      "source": [
        "# Número de columnas\n",
        "len(df.columns)"
      ],
      "metadata": {
        "id": "6RZU4FP0qlAo"
      },
      "execution_count": null,
      "outputs": []
    },
    {
      "cell_type": "markdown",
      "source": [
        "### **Tema 02: Transformación de datos**"
      ],
      "metadata": {
        "id": "ooKRgMU-joiv"
      }
    },
    {
      "cell_type": "markdown",
      "source": [
        "### **Valores perdidos**"
      ],
      "metadata": {
        "id": "4sgyb419j0Cj"
      }
    },
    {
      "cell_type": "markdown",
      "source": [
        "#### **Identificación de los NAs**"
      ],
      "metadata": {
        "id": "nzTJKOVmj7sY"
      }
    },
    {
      "cell_type": "code",
      "source": [
        "# Los NAs están strings vacíos\n",
        "import numpy as np\n",
        "df.replace(\"\", np.nan, inplace=True)"
      ],
      "metadata": {
        "id": "LgdRhBA_krad"
      },
      "execution_count": null,
      "outputs": []
    },
    {
      "cell_type": "code",
      "source": [
        "df['Escribe tu edad exacta'].isna().value_counts()"
      ],
      "metadata": {
        "id": "sA58q47SlOa2"
      },
      "execution_count": null,
      "outputs": []
    },
    {
      "cell_type": "markdown",
      "source": [
        "#### **Tratando de los NAs**"
      ],
      "metadata": {
        "id": "Q6X8_1gGmRtt"
      }
    },
    {
      "cell_type": "code",
      "source": [
        "df[\"Escribe tu edad exacta\"].dtype"
      ],
      "metadata": {
        "id": "dkBlave0lb06"
      },
      "execution_count": null,
      "outputs": []
    },
    {
      "cell_type": "code",
      "source": [
        "df[\"Escribe tu edad exacta\"] = pd.to_numeric(df[\"Escribe tu edad exacta\"], errors=\"coerce\")"
      ],
      "metadata": {
        "id": "xKDMyRM-mXsV"
      },
      "execution_count": null,
      "outputs": []
    },
    {
      "cell_type": "code",
      "source": [
        "df[\"Escribe tu edad exacta\"].dtype"
      ],
      "metadata": {
        "id": "-4Sgq6Xumlb8"
      },
      "execution_count": null,
      "outputs": []
    },
    {
      "cell_type": "code",
      "source": [
        "df[\"Escribe tu edad exacta\"].mean()"
      ],
      "metadata": {
        "id": "xrKMl0Kcm6x1"
      },
      "execution_count": null,
      "outputs": []
    },
    {
      "cell_type": "code",
      "source": [
        "edad_promedio = df[\"Escribe tu edad exacta\"].mean()"
      ],
      "metadata": {
        "id": "MTblWUy8nlJE"
      },
      "execution_count": null,
      "outputs": []
    },
    {
      "cell_type": "markdown",
      "source": [
        "##### **Reemplazo por la media**"
      ],
      "metadata": {
        "id": "AMh7oy5An7WD"
      }
    },
    {
      "cell_type": "code",
      "source": [
        "# Creando df2\n",
        "df2 = df.copy()"
      ],
      "metadata": {
        "id": "rTUs5cYQnrK8"
      },
      "execution_count": null,
      "outputs": []
    },
    {
      "cell_type": "code",
      "source": [
        "# Reemplazo por la media\n",
        "df2[\"edad2\"] = df2[\"Escribe tu edad exacta\"].fillna(edad_promedio)"
      ],
      "metadata": {
        "id": "_gnufH1JoWv8"
      },
      "execution_count": null,
      "outputs": []
    },
    {
      "cell_type": "code",
      "source": [
        "df2[[\"Escribe tu edad exacta\", \"edad2\"]]"
      ],
      "metadata": {
        "id": "UlimygA5osD0"
      },
      "execution_count": null,
      "outputs": []
    },
    {
      "cell_type": "markdown",
      "source": [
        "**Reubicando edad2**"
      ],
      "metadata": {
        "id": "9SQ7GdKfqj16"
      }
    },
    {
      "cell_type": "code",
      "source": [
        "# Crear una lista con los nombres de las columnas\n",
        "lista_columnas = list(df2.columns)"
      ],
      "metadata": {
        "id": "rAGzS_p2pDIc"
      },
      "execution_count": null,
      "outputs": []
    },
    {
      "cell_type": "code",
      "source": [
        "# Quitando temporalmente edad2 de la lista\n",
        "lista_columnas.remove(\"edad2\")"
      ],
      "metadata": {
        "id": "WrC-dqzIq5Yp"
      },
      "execution_count": null,
      "outputs": []
    },
    {
      "cell_type": "code",
      "source": [
        "# Obteniendo el índice (posición) de la columna \"after\"\n",
        "lista_columnas.index(\"Escribe tu edad exacta\")"
      ],
      "metadata": {
        "id": "2NWTBDS0q6dh"
      },
      "execution_count": null,
      "outputs": []
    },
    {
      "cell_type": "code",
      "source": [
        "# Insertando \"edad2\" después de \"Escribe tu edad exacta\"\n",
        "lista_columnas.insert(lista_columnas.index(\"Escribe tu edad exacta\") + 1, \"edad2\")"
      ],
      "metadata": {
        "id": "VUgsKv0KrXvO"
      },
      "execution_count": null,
      "outputs": []
    },
    {
      "cell_type": "code",
      "source": [
        "# Reordenando y guardando en df2\n",
        "df2 = df2[lista_columnas]"
      ],
      "metadata": {
        "id": "gn6mc31Sr1Ia"
      },
      "execution_count": null,
      "outputs": []
    },
    {
      "cell_type": "code",
      "source": [
        "df2.head()"
      ],
      "metadata": {
        "id": "6BVbPiMUsWX9"
      },
      "execution_count": null,
      "outputs": []
    },
    {
      "cell_type": "markdown",
      "source": [
        "**Creando relocate() en python**"
      ],
      "metadata": {
        "id": "vt8dyqrwtP_n"
      }
    },
    {
      "cell_type": "code",
      "source": [
        "def relocate(df, columna, after):\n",
        "  lista_columnas = list(df.columns)\n",
        "  lista_columnas.remove(columna)\n",
        "  lista_columnas.insert(lista_columnas.index(after) + 1, columna)\n",
        "  return df[lista_columnas]"
      ],
      "metadata": {
        "id": "kHUPdf-Gs_mU"
      },
      "execution_count": null,
      "outputs": []
    },
    {
      "cell_type": "code",
      "source": [
        "relocate(\n",
        "    df = df2,\n",
        "    columna = \"edad2\",\n",
        "    after = \"Escribe tu edad exacta\"\n",
        ")"
      ],
      "metadata": {
        "id": "jE8sah5Ju2lD"
      },
      "execution_count": null,
      "outputs": []
    },
    {
      "cell_type": "markdown",
      "source": [
        "##### **Eliminar la fila completa**"
      ],
      "metadata": {
        "id": "bNrCWrSLw6Np"
      }
    },
    {
      "cell_type": "code",
      "source": [
        "df2.shape"
      ],
      "metadata": {
        "id": "V187KIVhu9R3"
      },
      "execution_count": null,
      "outputs": []
    },
    {
      "cell_type": "code",
      "source": [
        "df2 = df2.dropna()"
      ],
      "metadata": {
        "id": "qrlsaqqkw-TB"
      },
      "execution_count": null,
      "outputs": []
    },
    {
      "cell_type": "code",
      "source": [
        "df2.shape"
      ],
      "metadata": {
        "id": "EwnL6LGLxGch"
      },
      "execution_count": null,
      "outputs": []
    },
    {
      "cell_type": "markdown",
      "source": [
        "### **Estandarización de variables**"
      ],
      "metadata": {
        "id": "68nGU739408K"
      }
    },
    {
      "cell_type": "markdown",
      "source": [
        "#### **Normalización**"
      ],
      "metadata": {
        "id": "QRqm6HVh47xK"
      }
    },
    {
      "cell_type": "code",
      "source": [
        "from sklearn.preprocessing import StandardScaler"
      ],
      "metadata": {
        "id": "-TnWB_S2xHsy"
      },
      "execution_count": null,
      "outputs": []
    },
    {
      "cell_type": "code",
      "source": [
        "# instanciando StandardScaler()\n",
        "normalizador = StandardScaler()"
      ],
      "metadata": {
        "id": "U9w3-oiN5MgA"
      },
      "execution_count": null,
      "outputs": []
    },
    {
      "cell_type": "code",
      "source": [
        "# normalizando\n",
        "normalizador.fit_transform(df2[[\"edad2\"]])"
      ],
      "metadata": {
        "id": "AhSmX2ue5Wl2"
      },
      "execution_count": null,
      "outputs": []
    },
    {
      "cell_type": "code",
      "source": [
        "# creando df3\n",
        "df3 = df2.copy()"
      ],
      "metadata": {
        "id": "AievnGAd5e_D"
      },
      "execution_count": null,
      "outputs": []
    },
    {
      "cell_type": "code",
      "source": [
        "df3[\"edadZ\"] = normalizador.fit_transform(df3[[\"edad2\"]])"
      ],
      "metadata": {
        "id": "4x4ZM6mk7uDN"
      },
      "execution_count": null,
      "outputs": []
    },
    {
      "cell_type": "code",
      "source": [
        "# reubicando edadZ despues de edad2\n",
        "df3 = relocate(\n",
        "    df = df3,\n",
        "    columna = \"edadZ\",\n",
        "    after = \"edad2\"\n",
        ")"
      ],
      "metadata": {
        "id": "7rI4kdEn70xT"
      },
      "execution_count": null,
      "outputs": []
    },
    {
      "cell_type": "code",
      "source": [
        "df3[[\"edad2\", \"edadZ\"]]"
      ],
      "metadata": {
        "id": "IKCyxOts7_j6"
      },
      "execution_count": null,
      "outputs": []
    },
    {
      "cell_type": "markdown",
      "source": [
        "#### **Rango**"
      ],
      "metadata": {
        "id": "amaPALdA8QGk"
      }
    },
    {
      "cell_type": "code",
      "source": [
        "from sklearn.preprocessing import MinMaxScaler"
      ],
      "metadata": {
        "id": "VtB7D7IL8A_y"
      },
      "execution_count": null,
      "outputs": []
    },
    {
      "cell_type": "code",
      "source": [
        "# instanciando MinMaxScaler()\n",
        "rango = MinMaxScaler()"
      ],
      "metadata": {
        "id": "jTjQxel7-Xyd"
      },
      "execution_count": null,
      "outputs": []
    },
    {
      "cell_type": "code",
      "source": [
        "# convirtiendo a rango\n",
        "df3[\"edadRango\"] = rango.fit_transform(df3[[\"edad2\"]])"
      ],
      "metadata": {
        "id": "SrtIa_R0-g6N"
      },
      "execution_count": null,
      "outputs": []
    },
    {
      "cell_type": "code",
      "source": [
        "df3 = relocate(\n",
        "    df = df3,\n",
        "    columna = \"edadRango\",\n",
        "    after = \"edadZ\"\n",
        ")"
      ],
      "metadata": {
        "id": "MNlgfN_A-zeJ"
      },
      "execution_count": null,
      "outputs": []
    },
    {
      "cell_type": "code",
      "source": [
        "df3[[\"edad2\", \"edadRango\"]]"
      ],
      "metadata": {
        "id": "H7evVzdx-2bh"
      },
      "execution_count": null,
      "outputs": []
    },
    {
      "cell_type": "markdown",
      "source": [
        "### **Agrupaciones**"
      ],
      "metadata": {
        "id": "TsMyzeVDx-eD"
      }
    },
    {
      "cell_type": "markdown",
      "source": [
        "#### **Numéricas**"
      ],
      "metadata": {
        "id": "nUrbb8xjyE8K"
      }
    },
    {
      "cell_type": "code",
      "source": [
        "cortes = [-float('inf'), 18, 21, float('inf')]\n",
        "etiquetas = [\"18 o menos\", \"19 a 21\", \"Más de 21\"]"
      ],
      "metadata": {
        "id": "xrv1tVdO-4vR"
      },
      "execution_count": null,
      "outputs": []
    },
    {
      "cell_type": "code",
      "source": [
        "df3['edadGR'] = pd.cut(\n",
        "    x = df3['edad2'],\n",
        "    bins = cortes,\n",
        "    labels = etiquetas\n",
        ")"
      ],
      "metadata": {
        "id": "lroNwqeqzFQz"
      },
      "execution_count": null,
      "outputs": []
    },
    {
      "cell_type": "code",
      "source": [
        "df3 = relocate(\n",
        "    df = df3,\n",
        "    columna = \"edadGR\",\n",
        "    after = \"edad2\"\n",
        ")"
      ],
      "metadata": {
        "id": "Y1PEh9NizqgS"
      },
      "execution_count": null,
      "outputs": []
    },
    {
      "cell_type": "code",
      "source": [
        "# frecuencias de edadGR\n",
        "df3['edadGR'].value_counts()"
      ],
      "metadata": {
        "id": "jOJTws5Cz5Y5"
      },
      "execution_count": null,
      "outputs": []
    },
    {
      "cell_type": "markdown",
      "source": [
        "#### **Categóricas**"
      ],
      "metadata": {
        "id": "-QbCcpZz1ZwK"
      }
    },
    {
      "cell_type": "code",
      "source": [
        "# Índices\n",
        "df3.info()"
      ],
      "metadata": {
        "id": "zQdBpoVG1CO0"
      },
      "execution_count": null,
      "outputs": []
    },
    {
      "cell_type": "code",
      "source": [
        "# Valores únicos\n",
        "pd.unique(df3.iloc[:,8])"
      ],
      "metadata": {
        "id": "wONH2RKt2QAH"
      },
      "execution_count": null,
      "outputs": []
    },
    {
      "cell_type": "code",
      "source": [
        "# Frecuencias\n",
        "df3.iloc[:,8].value_counts()"
      ],
      "metadata": {
        "id": "s1n3n-fb2iMV"
      },
      "execution_count": null,
      "outputs": []
    },
    {
      "cell_type": "code",
      "source": [
        "df3.iloc[:,8].isin(['Totalmente verdadero', 'Un poco verdadero'])"
      ],
      "metadata": {
        "id": "8oM7WQlS2xNE"
      },
      "execution_count": null,
      "outputs": []
    },
    {
      "cell_type": "markdown",
      "source": [
        "Dummitización"
      ],
      "metadata": {
        "id": "2JtB8LEJ0ydD"
      }
    },
    {
      "cell_type": "code",
      "source": [
        "# Función condicional normal\n",
        "def top2box(x):\n",
        "  if x == \"Un poco verdadero\" or x == \"Totalmente verdadero\":\n",
        "    return 1\n",
        "  else:\n",
        "    return 0"
      ],
      "metadata": {
        "id": "RBA4CgGK3H1s"
      },
      "execution_count": null,
      "outputs": []
    },
    {
      "cell_type": "code",
      "source": [
        "# aplicando la función\n",
        "df3.iloc[:,8].apply(top2box).value_counts()"
      ],
      "metadata": {
        "id": "nCppDpxv1iPL"
      },
      "execution_count": null,
      "outputs": []
    },
    {
      "cell_type": "code",
      "source": [
        "# función lambda\n",
        "df3.iloc[:,8].apply(lambda x: 1 if x == \"Un poco verdadero\" or x == \"Totalmente verdadero\" else 0)"
      ],
      "metadata": {
        "id": "Et235t1U1tPO"
      },
      "execution_count": null,
      "outputs": []
    },
    {
      "cell_type": "code",
      "source": [
        "# frecuencias\n",
        "df3.iloc[:,8].apply(lambda x: 1 if x == \"Un poco verdadero\" or x == \"Totalmente verdadero\" else 0).value_counts()"
      ],
      "metadata": {
        "id": "JT_FfYHa2uE-"
      },
      "execution_count": null,
      "outputs": []
    },
    {
      "cell_type": "code",
      "source": [
        "df3.iloc[:,8].apply(lambda x: 1 if x in [\"Un poco verdadero\", \"Totalmente verdadero\"] else 0).value_counts()"
      ],
      "metadata": {
        "id": "utLbbnV724yP"
      },
      "execution_count": null,
      "outputs": []
    },
    {
      "cell_type": "markdown",
      "source": [
        "#### **Ordinales**"
      ],
      "metadata": {
        "id": "vZl5sYT44kmR"
      }
    },
    {
      "cell_type": "code",
      "source": [
        "import numpy as np"
      ],
      "metadata": {
        "id": "0S_1Osru3_RF"
      },
      "execution_count": null,
      "outputs": []
    },
    {
      "cell_type": "code",
      "source": [
        "# niveles\n",
        "pd.unique(df3.iloc[:,8])"
      ],
      "metadata": {
        "id": "VGwsSbrl5KPm"
      },
      "execution_count": null,
      "outputs": []
    },
    {
      "cell_type": "code",
      "source": [
        "# Cuando las condiciones son muchas (5 en este caso), es mejor usar select()\n",
        "condiciones = [\n",
        "    df3.iloc[:,8] == \"Totalmente falso\",\n",
        "    df3.iloc[:,8] == \"Un poco falso\",\n",
        "    df3.iloc[:,8] == \"No lo sé\",\n",
        "    df3.iloc[:,8] == \"Un poco verdadero\",\n",
        "    df3.iloc[:,8] == \"Totalmente verdadero\"\n",
        "]\n",
        "\n",
        "# Hacer coincidir el orden\n",
        "opciones = [1,2,3,4,5]"
      ],
      "metadata": {
        "id": "wnN9HbsE5WE4"
      },
      "execution_count": null,
      "outputs": []
    },
    {
      "cell_type": "code",
      "source": [
        "# usando select\n",
        "ordinal = np.select(\n",
        "    condlist = condiciones,\n",
        "    choicelist = opciones,\n",
        "    default = np.nan\n",
        ")"
      ],
      "metadata": {
        "id": "6_OUMRAh57OM"
      },
      "execution_count": null,
      "outputs": []
    },
    {
      "cell_type": "code",
      "source": [
        "ordinal"
      ],
      "metadata": {
        "id": "tsIJJvR659oT"
      },
      "execution_count": null,
      "outputs": []
    },
    {
      "cell_type": "code",
      "source": [
        "# no confundir return_counts de numpy con value_counts de pandas\n",
        "np.unique(ordinal, return_counts = True)"
      ],
      "metadata": {
        "id": "qbHxR1Fy6eRd"
      },
      "execution_count": null,
      "outputs": []
    },
    {
      "cell_type": "code",
      "source": [
        "# para aplicar value_counts() primero se debe convertir a pd.Series\n",
        "pd.Series(ordinal).value_counts()"
      ],
      "metadata": {
        "id": "hRduDhR_76FT"
      },
      "execution_count": null,
      "outputs": []
    },
    {
      "cell_type": "markdown",
      "source": [
        "#### **Bucles**"
      ],
      "metadata": {
        "id": "VR8cKrFrFoiR"
      }
    },
    {
      "cell_type": "markdown",
      "source": [
        "Forma convencional / standard"
      ],
      "metadata": {
        "id": "rxs4e5WqFq4x"
      }
    },
    {
      "cell_type": "code",
      "source": [
        "# creando df4\n",
        "df4 = df3.copy()"
      ],
      "metadata": {
        "id": "PBrHSoaX8i5W"
      },
      "execution_count": null,
      "outputs": []
    },
    {
      "cell_type": "code",
      "source": [
        "df4.columns"
      ],
      "metadata": {
        "id": "toD63eV3Fx7w"
      },
      "execution_count": null,
      "outputs": []
    },
    {
      "cell_type": "code",
      "source": [
        "# crear una lista vacía\n",
        "frases = []"
      ],
      "metadata": {
        "id": "xsYpcaetF2Av"
      },
      "execution_count": null,
      "outputs": []
    },
    {
      "cell_type": "code",
      "source": [
        "# se ejecuta un blucle para llenar la lista\n",
        "for col in df4.columns:\n",
        "  if col.startswith(\"Según tu\"):\n",
        "    frases.append(col)"
      ],
      "metadata": {
        "id": "Wpv2xZq_GGJv"
      },
      "execution_count": null,
      "outputs": []
    },
    {
      "cell_type": "code",
      "source": [
        "frases"
      ],
      "metadata": {
        "id": "GST8kB9XGoLt"
      },
      "execution_count": null,
      "outputs": []
    },
    {
      "cell_type": "code",
      "source": [
        "# aplicando el bucle para dummitizar, recordemos que creamos la función top2box\n",
        "for frase in frases:\n",
        "  df4[frase] = df4[frase].apply(top2box)"
      ],
      "metadata": {
        "id": "kXwLyGTuG1oM"
      },
      "execution_count": null,
      "outputs": []
    },
    {
      "cell_type": "code",
      "source": [
        "df4[frases]"
      ],
      "metadata": {
        "id": "u5ZiV3SpHUSc"
      },
      "execution_count": null,
      "outputs": []
    },
    {
      "cell_type": "code",
      "source": [
        "df4.iloc[:,8].value_counts()"
      ],
      "metadata": {
        "id": "U5SWCHwiHZqr"
      },
      "execution_count": null,
      "outputs": []
    },
    {
      "cell_type": "markdown",
      "source": [
        "Forma Pythonica"
      ],
      "metadata": {
        "id": "pMo8lCpRIw64"
      }
    },
    {
      "cell_type": "code",
      "source": [
        "# creando df5\n",
        "df5 = df3.copy()"
      ],
      "metadata": {
        "id": "E27_l3FIIhfo"
      },
      "execution_count": null,
      "outputs": []
    },
    {
      "cell_type": "code",
      "source": [
        "# lista vacía\n",
        "frases = []"
      ],
      "metadata": {
        "id": "N_Gq-RAOI5Sf"
      },
      "execution_count": null,
      "outputs": []
    },
    {
      "cell_type": "code",
      "source": [
        "# usando comprehension list\n",
        "frases = [col for col in df5.columns if col.startswith(\"Según tu\")]"
      ],
      "metadata": {
        "id": "t3JoRnSrI-D_"
      },
      "execution_count": null,
      "outputs": []
    },
    {
      "cell_type": "code",
      "source": [
        "frases"
      ],
      "metadata": {
        "id": "pdXvIjpbJfZT"
      },
      "execution_count": null,
      "outputs": []
    },
    {
      "cell_type": "code",
      "source": [
        "# aplicando el bucle para dummitizar, esta vez con lambda, como si la función top2box no existiera\n",
        "for frase in frases:\n",
        "  df5[frase] = df5[frase].apply(lambda x: 1 if x in [\"Un poco verdadero\", \"Totalmente verdadero\"] else 0)"
      ],
      "metadata": {
        "id": "aNc4B9dHJgc1"
      },
      "execution_count": null,
      "outputs": []
    },
    {
      "cell_type": "code",
      "source": [
        "df5[frases]"
      ],
      "metadata": {
        "id": "DY7mYyy-KcAV"
      },
      "execution_count": null,
      "outputs": []
    },
    {
      "cell_type": "code",
      "source": [
        "df5[frases] == df4[frases]"
      ],
      "metadata": {
        "id": "-x00GxwNKejy"
      },
      "execution_count": null,
      "outputs": []
    },
    {
      "cell_type": "markdown",
      "source": [
        "### **Tema 03: Manipulación de datos**"
      ],
      "metadata": {
        "id": "H-1ylVSPLLTp"
      }
    },
    {
      "cell_type": "markdown",
      "source": [
        "#### **Selección de columnas**"
      ],
      "metadata": {
        "id": "1xmVfjuYLgMR"
      }
    },
    {
      "cell_type": "code",
      "source": [
        "df5['Sexo']"
      ],
      "metadata": {
        "id": "O64ozogwKo6T"
      },
      "execution_count": null,
      "outputs": []
    },
    {
      "cell_type": "code",
      "source": [
        "df5[['Sexo']]"
      ],
      "metadata": {
        "id": "OlR2jI8hLw3T"
      },
      "execution_count": null,
      "outputs": []
    },
    {
      "cell_type": "code",
      "source": [
        "# dobles corchetes obligatorios para seleccionar más de una col\n",
        "df5[['Sexo', 'Escribe tu edad exacta']]"
      ],
      "metadata": {
        "id": "R5-br8h3L5oA"
      },
      "execution_count": null,
      "outputs": []
    },
    {
      "cell_type": "code",
      "source": [
        "# eliminar una columna\n",
        "df5.drop(columns='Marca temporal')"
      ],
      "metadata": {
        "id": "0lq-EHozMQc3"
      },
      "execution_count": null,
      "outputs": []
    },
    {
      "cell_type": "code",
      "source": [
        "# seleccionar las cols que comienzan con...\n",
        "df5[[col for col in df5.columns if col.startswith(\"¿Cuánto\")]]"
      ],
      "metadata": {
        "id": "F2ncEOUbMmHm"
      },
      "execution_count": null,
      "outputs": []
    },
    {
      "cell_type": "code",
      "source": [
        "# seleccionar las cols que terminan con...\n",
        "df5[[col for col in df5.columns if col.endswith(\"]\")]]"
      ],
      "metadata": {
        "id": "RxpHUeIEM_ox"
      },
      "execution_count": null,
      "outputs": []
    },
    {
      "cell_type": "code",
      "source": [
        "# contains\n",
        "df5.filter(like='edad', axis=1)"
      ],
      "metadata": {
        "id": "PoLdtRJuNbvt"
      },
      "execution_count": null,
      "outputs": []
    },
    {
      "cell_type": "markdown",
      "source": [
        "#### **Selección de filas**"
      ],
      "metadata": {
        "id": "NI2Yf5gdN9q-"
      }
    },
    {
      "cell_type": "code",
      "source": [
        "# Seleccionar filas cuando Sexo = 'Mujer'\n",
        "df5[df5['Sexo'] == 'Mujer'].head(3)"
      ],
      "metadata": {
        "id": "5QoUKHwmNrAM"
      },
      "execution_count": null,
      "outputs": []
    },
    {
      "cell_type": "code",
      "source": [
        "# Omitir filas cuando Sexo no es igual \"Hombre\"\n",
        "df5[df5['Sexo'] != 'Hombre'].head(3)"
      ],
      "metadata": {
        "id": "uutN0zdaOOr3"
      },
      "execution_count": null,
      "outputs": []
    },
    {
      "cell_type": "code",
      "source": [
        "# Seleccionar filas cuando edad2 es mayor o igual a 20\n",
        "df5[df5['edad2'] >= 20].head(3)"
      ],
      "metadata": {
        "id": "qQCx49cnOUqz"
      },
      "execution_count": null,
      "outputs": []
    },
    {
      "cell_type": "code",
      "source": [
        "# Seleccinar filas cuando edad2 está entre 18 y 21\n",
        "df5[(df5['edad2'] >= 18) & (df5['edad2'] <= 21)].head(3)"
      ],
      "metadata": {
        "id": "jFa9DQCjOb1j"
      },
      "execution_count": null,
      "outputs": []
    },
    {
      "cell_type": "code",
      "source": [
        "# Seleccinar filas cuando edad2 está entre 18 y 21\n",
        "# Seleccionar filas cuando Sexo = 'Mujer'\n",
        "df5[\n",
        "    (df5['edad2'] >= 18) &\n",
        "    (df5['edad2'] <= 21) &\n",
        "    (df5['Sexo'] == 'Mujer')\n",
        "].head(3)"
      ],
      "metadata": {
        "id": "lASgDhDZOg-j"
      },
      "execution_count": null,
      "outputs": []
    },
    {
      "cell_type": "markdown",
      "source": [
        "#### **Renombrando columnas**"
      ],
      "metadata": {
        "id": "38S0Tp_e16eY"
      }
    },
    {
      "cell_type": "code",
      "source": [
        "df6 = df5.copy()"
      ],
      "metadata": {
        "id": "Ga6TB-Sd1lw5"
      },
      "execution_count": null,
      "outputs": []
    },
    {
      "cell_type": "markdown",
      "source": [
        "**APPs**"
      ],
      "metadata": {
        "id": "OBKfNiXb2U0O"
      }
    },
    {
      "cell_type": "code",
      "source": [
        "df6.columns"
      ],
      "metadata": {
        "id": "z7tvQWrc2ACA"
      },
      "execution_count": null,
      "outputs": []
    },
    {
      "cell_type": "markdown",
      "source": [
        "**Paso 1:** Creamos una lista con los nuevos nombres"
      ],
      "metadata": {
        "id": "jZa8aQPJ2eb-"
      }
    },
    {
      "cell_type": "code",
      "source": [
        "apps = [\"TikTok\", \"Instagram\", \"Facebook\", \"YouTube\"]"
      ],
      "metadata": {
        "id": "s8qFp4tu2JzX"
      },
      "execution_count": null,
      "outputs": []
    },
    {
      "cell_type": "markdown",
      "source": [
        "**Paso 2:** Crear un dict que contenga los nombres antiguos como keys y los nuevos como values"
      ],
      "metadata": {
        "id": "vlyLfCmH4I_w"
      }
    },
    {
      "cell_type": "code",
      "source": [
        "# zip() crea tuplas (nombre antiguo, nombre nuevo)\n",
        "# dict() almacena la tupla en un diccionario\n",
        "apps_dict = dict(zip(\n",
        " [col for col in df6.columns if col.startswith(\"¿Cuánto\")],\n",
        " apps\n",
        "))"
      ],
      "metadata": {
        "id": "eGsCY4N12pL2"
      },
      "execution_count": null,
      "outputs": []
    },
    {
      "cell_type": "markdown",
      "source": [
        "**Paso 3:** Renombrando"
      ],
      "metadata": {
        "id": "m5u48tFM4R3f"
      }
    },
    {
      "cell_type": "code",
      "source": [
        "df6.rename(apps_dict, axis=1, inplace=True)"
      ],
      "metadata": {
        "id": "4iNSEz4B4HWf"
      },
      "execution_count": null,
      "outputs": []
    },
    {
      "cell_type": "code",
      "source": [
        "df6.info()"
      ],
      "metadata": {
        "id": "H-NVKFNf2qHt"
      },
      "execution_count": null,
      "outputs": []
    },
    {
      "cell_type": "markdown",
      "source": [
        "**Frases**"
      ],
      "metadata": {
        "id": "3MpsF-tJ20r6"
      }
    },
    {
      "cell_type": "markdown",
      "source": [
        "**Paso 0:** Convertir la lista a Pandas Series"
      ],
      "metadata": {
        "id": "q4rAK-0d3WJk"
      }
    },
    {
      "cell_type": "code",
      "source": [
        "frases2 = pd.Series(frases)"
      ],
      "metadata": {
        "id": "Cgz-Qngz4jM-"
      },
      "execution_count": 123,
      "outputs": []
    },
    {
      "cell_type": "markdown",
      "source": [
        "**Paso 1:** Crear una lista con los nuevos nombres"
      ],
      "metadata": {
        "id": "VJC4Of_738jY"
      }
    },
    {
      "cell_type": "code",
      "source": [
        "frases2 = frases2.str.extract('\\\\[(.+)\\\\]')[0]"
      ],
      "metadata": {
        "id": "U8dyScaU3SFp"
      },
      "execution_count": 124,
      "outputs": []
    },
    {
      "cell_type": "code",
      "source": [
        "frases2"
      ],
      "metadata": {
        "id": "uLHQ9g0D4NhA"
      },
      "execution_count": null,
      "outputs": []
    },
    {
      "cell_type": "markdown",
      "source": [
        "**Paso 2:** Crear un dict que contenga los nombres antiguos como keys y los nuevos como values"
      ],
      "metadata": {
        "id": "9AOqtig16V3m"
      }
    },
    {
      "cell_type": "code",
      "source": [
        "frases_dict = dict(zip(frases, frases2))"
      ],
      "metadata": {
        "id": "Pj87x1PH5Gzc"
      },
      "execution_count": 127,
      "outputs": []
    },
    {
      "cell_type": "code",
      "source": [
        "frases_dict"
      ],
      "metadata": {
        "id": "W4_rgOLM6ihH"
      },
      "execution_count": null,
      "outputs": []
    },
    {
      "cell_type": "markdown",
      "source": [
        "**Paso 3:** Renombrando"
      ],
      "metadata": {
        "id": "-azk377v6xgI"
      }
    },
    {
      "cell_type": "code",
      "source": [
        "df6.rename(frases_dict, axis=1, inplace=True)"
      ],
      "metadata": {
        "id": "FymLQCH76jXT"
      },
      "execution_count": 129,
      "outputs": []
    },
    {
      "cell_type": "code",
      "source": [
        "df6.info()"
      ],
      "metadata": {
        "id": "KD1F9fqt61cZ"
      },
      "execution_count": null,
      "outputs": []
    },
    {
      "cell_type": "markdown",
      "source": [
        "#### **Pivotado**"
      ],
      "metadata": {
        "id": "lomPw3qh9Zkh"
      }
    },
    {
      "cell_type": "markdown",
      "source": [
        "Pivot Longer"
      ],
      "metadata": {
        "id": "bYURNUjl9b9Y"
      }
    },
    {
      "cell_type": "code",
      "source": [
        "apps"
      ],
      "metadata": {
        "colab": {
          "base_uri": "https://localhost:8080/"
        },
        "id": "a0xLWNaE-md3",
        "outputId": "a7077ebc-bb97-4d95-dd39-d937c3bdd4d9"
      },
      "execution_count": 133,
      "outputs": [
        {
          "output_type": "execute_result",
          "data": {
            "text/plain": [
              "['TikTok', 'Instagram', 'Facebook', 'YouTube']"
            ]
          },
          "metadata": {},
          "execution_count": 133
        }
      ]
    },
    {
      "cell_type": "code",
      "source": [
        "df7 = df6.melt(\n",
        "    # identificadores\n",
        "    id_vars = ['Marca temporal', 'Sexo', 'edad2'],\n",
        "    value_vars = apps,\n",
        "    var_name = 'app',\n",
        "    value_name = 'time'\n",
        ")"
      ],
      "metadata": {
        "id": "WjJ0Dev763Uh"
      },
      "execution_count": 134,
      "outputs": []
    },
    {
      "cell_type": "code",
      "source": [
        "df7.head()"
      ],
      "metadata": {
        "colab": {
          "base_uri": "https://localhost:8080/",
          "height": 206
        },
        "id": "S4pyhSSs-y5B",
        "outputId": "e026836f-0279-4ad7-e6be-ae14076e5302"
      },
      "execution_count": 135,
      "outputs": [
        {
          "output_type": "execute_result",
          "data": {
            "text/plain": [
              "       Marca temporal    Sexo  edad2     app      time\n",
              "0  9/08/2021 12:23:46  Hombre   16.0  TikTok   0:00:00\n",
              "1  9/08/2021 12:25:01   Mujer   16.0  TikTok   0:50:00\n",
              "2  9/08/2021 12:26:31  Hombre   17.0  TikTok   8:00:00\n",
              "3  9/08/2021 12:28:49   Mujer   22.0  TikTok  22:35:00\n",
              "4  9/08/2021 12:31:43  Hombre   16.0  TikTok   7:00:00"
            ],
            "text/html": [
              "\n",
              "  <div id=\"df-10ee1b8e-4af2-479c-998b-0bc944f528df\" class=\"colab-df-container\">\n",
              "    <div>\n",
              "<style scoped>\n",
              "    .dataframe tbody tr th:only-of-type {\n",
              "        vertical-align: middle;\n",
              "    }\n",
              "\n",
              "    .dataframe tbody tr th {\n",
              "        vertical-align: top;\n",
              "    }\n",
              "\n",
              "    .dataframe thead th {\n",
              "        text-align: right;\n",
              "    }\n",
              "</style>\n",
              "<table border=\"1\" class=\"dataframe\">\n",
              "  <thead>\n",
              "    <tr style=\"text-align: right;\">\n",
              "      <th></th>\n",
              "      <th>Marca temporal</th>\n",
              "      <th>Sexo</th>\n",
              "      <th>edad2</th>\n",
              "      <th>app</th>\n",
              "      <th>time</th>\n",
              "    </tr>\n",
              "  </thead>\n",
              "  <tbody>\n",
              "    <tr>\n",
              "      <th>0</th>\n",
              "      <td>9/08/2021 12:23:46</td>\n",
              "      <td>Hombre</td>\n",
              "      <td>16.0</td>\n",
              "      <td>TikTok</td>\n",
              "      <td>0:00:00</td>\n",
              "    </tr>\n",
              "    <tr>\n",
              "      <th>1</th>\n",
              "      <td>9/08/2021 12:25:01</td>\n",
              "      <td>Mujer</td>\n",
              "      <td>16.0</td>\n",
              "      <td>TikTok</td>\n",
              "      <td>0:50:00</td>\n",
              "    </tr>\n",
              "    <tr>\n",
              "      <th>2</th>\n",
              "      <td>9/08/2021 12:26:31</td>\n",
              "      <td>Hombre</td>\n",
              "      <td>17.0</td>\n",
              "      <td>TikTok</td>\n",
              "      <td>8:00:00</td>\n",
              "    </tr>\n",
              "    <tr>\n",
              "      <th>3</th>\n",
              "      <td>9/08/2021 12:28:49</td>\n",
              "      <td>Mujer</td>\n",
              "      <td>22.0</td>\n",
              "      <td>TikTok</td>\n",
              "      <td>22:35:00</td>\n",
              "    </tr>\n",
              "    <tr>\n",
              "      <th>4</th>\n",
              "      <td>9/08/2021 12:31:43</td>\n",
              "      <td>Hombre</td>\n",
              "      <td>16.0</td>\n",
              "      <td>TikTok</td>\n",
              "      <td>7:00:00</td>\n",
              "    </tr>\n",
              "  </tbody>\n",
              "</table>\n",
              "</div>\n",
              "    <div class=\"colab-df-buttons\">\n",
              "\n",
              "  <div class=\"colab-df-container\">\n",
              "    <button class=\"colab-df-convert\" onclick=\"convertToInteractive('df-10ee1b8e-4af2-479c-998b-0bc944f528df')\"\n",
              "            title=\"Convert this dataframe to an interactive table.\"\n",
              "            style=\"display:none;\">\n",
              "\n",
              "  <svg xmlns=\"http://www.w3.org/2000/svg\" height=\"24px\" viewBox=\"0 -960 960 960\">\n",
              "    <path d=\"M120-120v-720h720v720H120Zm60-500h600v-160H180v160Zm220 220h160v-160H400v160Zm0 220h160v-160H400v160ZM180-400h160v-160H180v160Zm440 0h160v-160H620v160ZM180-180h160v-160H180v160Zm440 0h160v-160H620v160Z\"/>\n",
              "  </svg>\n",
              "    </button>\n",
              "\n",
              "  <style>\n",
              "    .colab-df-container {\n",
              "      display:flex;\n",
              "      gap: 12px;\n",
              "    }\n",
              "\n",
              "    .colab-df-convert {\n",
              "      background-color: #E8F0FE;\n",
              "      border: none;\n",
              "      border-radius: 50%;\n",
              "      cursor: pointer;\n",
              "      display: none;\n",
              "      fill: #1967D2;\n",
              "      height: 32px;\n",
              "      padding: 0 0 0 0;\n",
              "      width: 32px;\n",
              "    }\n",
              "\n",
              "    .colab-df-convert:hover {\n",
              "      background-color: #E2EBFA;\n",
              "      box-shadow: 0px 1px 2px rgba(60, 64, 67, 0.3), 0px 1px 3px 1px rgba(60, 64, 67, 0.15);\n",
              "      fill: #174EA6;\n",
              "    }\n",
              "\n",
              "    .colab-df-buttons div {\n",
              "      margin-bottom: 4px;\n",
              "    }\n",
              "\n",
              "    [theme=dark] .colab-df-convert {\n",
              "      background-color: #3B4455;\n",
              "      fill: #D2E3FC;\n",
              "    }\n",
              "\n",
              "    [theme=dark] .colab-df-convert:hover {\n",
              "      background-color: #434B5C;\n",
              "      box-shadow: 0px 1px 3px 1px rgba(0, 0, 0, 0.15);\n",
              "      filter: drop-shadow(0px 1px 2px rgba(0, 0, 0, 0.3));\n",
              "      fill: #FFFFFF;\n",
              "    }\n",
              "  </style>\n",
              "\n",
              "    <script>\n",
              "      const buttonEl =\n",
              "        document.querySelector('#df-10ee1b8e-4af2-479c-998b-0bc944f528df button.colab-df-convert');\n",
              "      buttonEl.style.display =\n",
              "        google.colab.kernel.accessAllowed ? 'block' : 'none';\n",
              "\n",
              "      async function convertToInteractive(key) {\n",
              "        const element = document.querySelector('#df-10ee1b8e-4af2-479c-998b-0bc944f528df');\n",
              "        const dataTable =\n",
              "          await google.colab.kernel.invokeFunction('convertToInteractive',\n",
              "                                                    [key], {});\n",
              "        if (!dataTable) return;\n",
              "\n",
              "        const docLinkHtml = 'Like what you see? Visit the ' +\n",
              "          '<a target=\"_blank\" href=https://colab.research.google.com/notebooks/data_table.ipynb>data table notebook</a>'\n",
              "          + ' to learn more about interactive tables.';\n",
              "        element.innerHTML = '';\n",
              "        dataTable['output_type'] = 'display_data';\n",
              "        await google.colab.output.renderOutput(dataTable, element);\n",
              "        const docLink = document.createElement('div');\n",
              "        docLink.innerHTML = docLinkHtml;\n",
              "        element.appendChild(docLink);\n",
              "      }\n",
              "    </script>\n",
              "  </div>\n",
              "\n",
              "\n",
              "<div id=\"df-726faf02-255a-46a6-b0fa-9a05637d3911\">\n",
              "  <button class=\"colab-df-quickchart\" onclick=\"quickchart('df-726faf02-255a-46a6-b0fa-9a05637d3911')\"\n",
              "            title=\"Suggest charts\"\n",
              "            style=\"display:none;\">\n",
              "\n",
              "<svg xmlns=\"http://www.w3.org/2000/svg\" height=\"24px\"viewBox=\"0 0 24 24\"\n",
              "     width=\"24px\">\n",
              "    <g>\n",
              "        <path d=\"M19 3H5c-1.1 0-2 .9-2 2v14c0 1.1.9 2 2 2h14c1.1 0 2-.9 2-2V5c0-1.1-.9-2-2-2zM9 17H7v-7h2v7zm4 0h-2V7h2v10zm4 0h-2v-4h2v4z\"/>\n",
              "    </g>\n",
              "</svg>\n",
              "  </button>\n",
              "\n",
              "<style>\n",
              "  .colab-df-quickchart {\n",
              "      --bg-color: #E8F0FE;\n",
              "      --fill-color: #1967D2;\n",
              "      --hover-bg-color: #E2EBFA;\n",
              "      --hover-fill-color: #174EA6;\n",
              "      --disabled-fill-color: #AAA;\n",
              "      --disabled-bg-color: #DDD;\n",
              "  }\n",
              "\n",
              "  [theme=dark] .colab-df-quickchart {\n",
              "      --bg-color: #3B4455;\n",
              "      --fill-color: #D2E3FC;\n",
              "      --hover-bg-color: #434B5C;\n",
              "      --hover-fill-color: #FFFFFF;\n",
              "      --disabled-bg-color: #3B4455;\n",
              "      --disabled-fill-color: #666;\n",
              "  }\n",
              "\n",
              "  .colab-df-quickchart {\n",
              "    background-color: var(--bg-color);\n",
              "    border: none;\n",
              "    border-radius: 50%;\n",
              "    cursor: pointer;\n",
              "    display: none;\n",
              "    fill: var(--fill-color);\n",
              "    height: 32px;\n",
              "    padding: 0;\n",
              "    width: 32px;\n",
              "  }\n",
              "\n",
              "  .colab-df-quickchart:hover {\n",
              "    background-color: var(--hover-bg-color);\n",
              "    box-shadow: 0 1px 2px rgba(60, 64, 67, 0.3), 0 1px 3px 1px rgba(60, 64, 67, 0.15);\n",
              "    fill: var(--button-hover-fill-color);\n",
              "  }\n",
              "\n",
              "  .colab-df-quickchart-complete:disabled,\n",
              "  .colab-df-quickchart-complete:disabled:hover {\n",
              "    background-color: var(--disabled-bg-color);\n",
              "    fill: var(--disabled-fill-color);\n",
              "    box-shadow: none;\n",
              "  }\n",
              "\n",
              "  .colab-df-spinner {\n",
              "    border: 2px solid var(--fill-color);\n",
              "    border-color: transparent;\n",
              "    border-bottom-color: var(--fill-color);\n",
              "    animation:\n",
              "      spin 1s steps(1) infinite;\n",
              "  }\n",
              "\n",
              "  @keyframes spin {\n",
              "    0% {\n",
              "      border-color: transparent;\n",
              "      border-bottom-color: var(--fill-color);\n",
              "      border-left-color: var(--fill-color);\n",
              "    }\n",
              "    20% {\n",
              "      border-color: transparent;\n",
              "      border-left-color: var(--fill-color);\n",
              "      border-top-color: var(--fill-color);\n",
              "    }\n",
              "    30% {\n",
              "      border-color: transparent;\n",
              "      border-left-color: var(--fill-color);\n",
              "      border-top-color: var(--fill-color);\n",
              "      border-right-color: var(--fill-color);\n",
              "    }\n",
              "    40% {\n",
              "      border-color: transparent;\n",
              "      border-right-color: var(--fill-color);\n",
              "      border-top-color: var(--fill-color);\n",
              "    }\n",
              "    60% {\n",
              "      border-color: transparent;\n",
              "      border-right-color: var(--fill-color);\n",
              "    }\n",
              "    80% {\n",
              "      border-color: transparent;\n",
              "      border-right-color: var(--fill-color);\n",
              "      border-bottom-color: var(--fill-color);\n",
              "    }\n",
              "    90% {\n",
              "      border-color: transparent;\n",
              "      border-bottom-color: var(--fill-color);\n",
              "    }\n",
              "  }\n",
              "</style>\n",
              "\n",
              "  <script>\n",
              "    async function quickchart(key) {\n",
              "      const quickchartButtonEl =\n",
              "        document.querySelector('#' + key + ' button');\n",
              "      quickchartButtonEl.disabled = true;  // To prevent multiple clicks.\n",
              "      quickchartButtonEl.classList.add('colab-df-spinner');\n",
              "      try {\n",
              "        const charts = await google.colab.kernel.invokeFunction(\n",
              "            'suggestCharts', [key], {});\n",
              "      } catch (error) {\n",
              "        console.error('Error during call to suggestCharts:', error);\n",
              "      }\n",
              "      quickchartButtonEl.classList.remove('colab-df-spinner');\n",
              "      quickchartButtonEl.classList.add('colab-df-quickchart-complete');\n",
              "    }\n",
              "    (() => {\n",
              "      let quickchartButtonEl =\n",
              "        document.querySelector('#df-726faf02-255a-46a6-b0fa-9a05637d3911 button');\n",
              "      quickchartButtonEl.style.display =\n",
              "        google.colab.kernel.accessAllowed ? 'block' : 'none';\n",
              "    })();\n",
              "  </script>\n",
              "</div>\n",
              "\n",
              "    </div>\n",
              "  </div>\n"
            ],
            "application/vnd.google.colaboratory.intrinsic+json": {
              "type": "dataframe",
              "variable_name": "df7",
              "summary": "{\n  \"name\": \"df7\",\n  \"rows\": 928,\n  \"fields\": [\n    {\n      \"column\": \"Marca temporal\",\n      \"properties\": {\n        \"dtype\": \"category\",\n        \"num_unique_values\": 231,\n        \"samples\": [\n          \"17/08/2024 9:27:22\",\n          \"11/08/2021 12:18:25\",\n          \"9/08/2021 12:41:37\"\n        ],\n        \"semantic_type\": \"\",\n        \"description\": \"\"\n      }\n    },\n    {\n      \"column\": \"Sexo\",\n      \"properties\": {\n        \"dtype\": \"category\",\n        \"num_unique_values\": 2,\n        \"samples\": [\n          \"Mujer\",\n          \"Hombre\"\n        ],\n        \"semantic_type\": \"\",\n        \"description\": \"\"\n      }\n    },\n    {\n      \"column\": \"edad2\",\n      \"properties\": {\n        \"dtype\": \"number\",\n        \"std\": 3.989438032691711,\n        \"min\": 14.0,\n        \"max\": 48.0,\n        \"num_unique_values\": 23,\n        \"samples\": [\n          27.0,\n          25.0\n        ],\n        \"semantic_type\": \"\",\n        \"description\": \"\"\n      }\n    },\n    {\n      \"column\": \"app\",\n      \"properties\": {\n        \"dtype\": \"category\",\n        \"num_unique_values\": 4,\n        \"samples\": [\n          \"Instagram\",\n          \"YouTube\"\n        ],\n        \"semantic_type\": \"\",\n        \"description\": \"\"\n      }\n    },\n    {\n      \"column\": \"time\",\n      \"properties\": {\n        \"dtype\": \"object\",\n        \"num_unique_values\": 315,\n        \"samples\": [\n          \"4:07:00\",\n          \"1:00:00\"\n        ],\n        \"semantic_type\": \"\",\n        \"description\": \"\"\n      }\n    }\n  ]\n}"
            }
          },
          "metadata": {},
          "execution_count": 135
        }
      ]
    },
    {
      "cell_type": "markdown",
      "source": [
        "Pivot Wider"
      ],
      "metadata": {
        "id": "njV6CRfu_CJr"
      }
    },
    {
      "cell_type": "code",
      "source": [
        "df8 = df7.pivot(\n",
        "    index = ['Marca temporal', 'Sexo', 'edad2'],\n",
        "    columns = 'app',\n",
        "    values = 'time'\n",
        ")"
      ],
      "metadata": {
        "id": "QJftlbK1-0GN"
      },
      "execution_count": 136,
      "outputs": []
    },
    {
      "cell_type": "code",
      "source": [
        "df8.head()"
      ],
      "metadata": {
        "id": "fSTgb8La_QM6"
      },
      "execution_count": null,
      "outputs": []
    },
    {
      "cell_type": "code",
      "source": [
        "df8.info()"
      ],
      "metadata": {
        "id": "02yJL6li_R2q"
      },
      "execution_count": null,
      "outputs": []
    },
    {
      "cell_type": "code",
      "source": [
        "# recuperar las cols que están como index\n",
        "df8.reset_index(inplace=True)"
      ],
      "metadata": {
        "id": "-DfbHM6m_tUH"
      },
      "execution_count": 139,
      "outputs": []
    },
    {
      "cell_type": "code",
      "source": [
        "df8.info()"
      ],
      "metadata": {
        "id": "JtAR1lKi_5lO"
      },
      "execution_count": null,
      "outputs": []
    },
    {
      "cell_type": "code",
      "source": [
        "df8.head()"
      ],
      "metadata": {
        "id": "Yk3UePJM_65u"
      },
      "execution_count": null,
      "outputs": []
    },
    {
      "cell_type": "markdown",
      "source": [
        "### **Tema 04: Detección de outliers**"
      ],
      "metadata": {
        "id": "wiHTRirlHMSk"
      }
    },
    {
      "cell_type": "code",
      "source": [
        "df7.head()"
      ],
      "metadata": {
        "colab": {
          "base_uri": "https://localhost:8080/",
          "height": 206
        },
        "id": "zB58QSJ_HPVh",
        "outputId": "10bd91e4-877f-46ab-b678-1e6435fd8583"
      },
      "execution_count": 147,
      "outputs": [
        {
          "output_type": "execute_result",
          "data": {
            "text/plain": [
              "       Marca temporal    Sexo  edad2     app      time\n",
              "0  9/08/2021 12:23:46  Hombre   16.0  TikTok   0:00:00\n",
              "1  9/08/2021 12:25:01   Mujer   16.0  TikTok   0:50:00\n",
              "2  9/08/2021 12:26:31  Hombre   17.0  TikTok   8:00:00\n",
              "3  9/08/2021 12:28:49   Mujer   22.0  TikTok  22:35:00\n",
              "4  9/08/2021 12:31:43  Hombre   16.0  TikTok   7:00:00"
            ],
            "text/html": [
              "\n",
              "  <div id=\"df-c9999cdd-ee8c-4677-81af-dcc26c2b380a\" class=\"colab-df-container\">\n",
              "    <div>\n",
              "<style scoped>\n",
              "    .dataframe tbody tr th:only-of-type {\n",
              "        vertical-align: middle;\n",
              "    }\n",
              "\n",
              "    .dataframe tbody tr th {\n",
              "        vertical-align: top;\n",
              "    }\n",
              "\n",
              "    .dataframe thead th {\n",
              "        text-align: right;\n",
              "    }\n",
              "</style>\n",
              "<table border=\"1\" class=\"dataframe\">\n",
              "  <thead>\n",
              "    <tr style=\"text-align: right;\">\n",
              "      <th></th>\n",
              "      <th>Marca temporal</th>\n",
              "      <th>Sexo</th>\n",
              "      <th>edad2</th>\n",
              "      <th>app</th>\n",
              "      <th>time</th>\n",
              "    </tr>\n",
              "  </thead>\n",
              "  <tbody>\n",
              "    <tr>\n",
              "      <th>0</th>\n",
              "      <td>9/08/2021 12:23:46</td>\n",
              "      <td>Hombre</td>\n",
              "      <td>16.0</td>\n",
              "      <td>TikTok</td>\n",
              "      <td>0:00:00</td>\n",
              "    </tr>\n",
              "    <tr>\n",
              "      <th>1</th>\n",
              "      <td>9/08/2021 12:25:01</td>\n",
              "      <td>Mujer</td>\n",
              "      <td>16.0</td>\n",
              "      <td>TikTok</td>\n",
              "      <td>0:50:00</td>\n",
              "    </tr>\n",
              "    <tr>\n",
              "      <th>2</th>\n",
              "      <td>9/08/2021 12:26:31</td>\n",
              "      <td>Hombre</td>\n",
              "      <td>17.0</td>\n",
              "      <td>TikTok</td>\n",
              "      <td>8:00:00</td>\n",
              "    </tr>\n",
              "    <tr>\n",
              "      <th>3</th>\n",
              "      <td>9/08/2021 12:28:49</td>\n",
              "      <td>Mujer</td>\n",
              "      <td>22.0</td>\n",
              "      <td>TikTok</td>\n",
              "      <td>22:35:00</td>\n",
              "    </tr>\n",
              "    <tr>\n",
              "      <th>4</th>\n",
              "      <td>9/08/2021 12:31:43</td>\n",
              "      <td>Hombre</td>\n",
              "      <td>16.0</td>\n",
              "      <td>TikTok</td>\n",
              "      <td>7:00:00</td>\n",
              "    </tr>\n",
              "  </tbody>\n",
              "</table>\n",
              "</div>\n",
              "    <div class=\"colab-df-buttons\">\n",
              "\n",
              "  <div class=\"colab-df-container\">\n",
              "    <button class=\"colab-df-convert\" onclick=\"convertToInteractive('df-c9999cdd-ee8c-4677-81af-dcc26c2b380a')\"\n",
              "            title=\"Convert this dataframe to an interactive table.\"\n",
              "            style=\"display:none;\">\n",
              "\n",
              "  <svg xmlns=\"http://www.w3.org/2000/svg\" height=\"24px\" viewBox=\"0 -960 960 960\">\n",
              "    <path d=\"M120-120v-720h720v720H120Zm60-500h600v-160H180v160Zm220 220h160v-160H400v160Zm0 220h160v-160H400v160ZM180-400h160v-160H180v160Zm440 0h160v-160H620v160ZM180-180h160v-160H180v160Zm440 0h160v-160H620v160Z\"/>\n",
              "  </svg>\n",
              "    </button>\n",
              "\n",
              "  <style>\n",
              "    .colab-df-container {\n",
              "      display:flex;\n",
              "      gap: 12px;\n",
              "    }\n",
              "\n",
              "    .colab-df-convert {\n",
              "      background-color: #E8F0FE;\n",
              "      border: none;\n",
              "      border-radius: 50%;\n",
              "      cursor: pointer;\n",
              "      display: none;\n",
              "      fill: #1967D2;\n",
              "      height: 32px;\n",
              "      padding: 0 0 0 0;\n",
              "      width: 32px;\n",
              "    }\n",
              "\n",
              "    .colab-df-convert:hover {\n",
              "      background-color: #E2EBFA;\n",
              "      box-shadow: 0px 1px 2px rgba(60, 64, 67, 0.3), 0px 1px 3px 1px rgba(60, 64, 67, 0.15);\n",
              "      fill: #174EA6;\n",
              "    }\n",
              "\n",
              "    .colab-df-buttons div {\n",
              "      margin-bottom: 4px;\n",
              "    }\n",
              "\n",
              "    [theme=dark] .colab-df-convert {\n",
              "      background-color: #3B4455;\n",
              "      fill: #D2E3FC;\n",
              "    }\n",
              "\n",
              "    [theme=dark] .colab-df-convert:hover {\n",
              "      background-color: #434B5C;\n",
              "      box-shadow: 0px 1px 3px 1px rgba(0, 0, 0, 0.15);\n",
              "      filter: drop-shadow(0px 1px 2px rgba(0, 0, 0, 0.3));\n",
              "      fill: #FFFFFF;\n",
              "    }\n",
              "  </style>\n",
              "\n",
              "    <script>\n",
              "      const buttonEl =\n",
              "        document.querySelector('#df-c9999cdd-ee8c-4677-81af-dcc26c2b380a button.colab-df-convert');\n",
              "      buttonEl.style.display =\n",
              "        google.colab.kernel.accessAllowed ? 'block' : 'none';\n",
              "\n",
              "      async function convertToInteractive(key) {\n",
              "        const element = document.querySelector('#df-c9999cdd-ee8c-4677-81af-dcc26c2b380a');\n",
              "        const dataTable =\n",
              "          await google.colab.kernel.invokeFunction('convertToInteractive',\n",
              "                                                    [key], {});\n",
              "        if (!dataTable) return;\n",
              "\n",
              "        const docLinkHtml = 'Like what you see? Visit the ' +\n",
              "          '<a target=\"_blank\" href=https://colab.research.google.com/notebooks/data_table.ipynb>data table notebook</a>'\n",
              "          + ' to learn more about interactive tables.';\n",
              "        element.innerHTML = '';\n",
              "        dataTable['output_type'] = 'display_data';\n",
              "        await google.colab.output.renderOutput(dataTable, element);\n",
              "        const docLink = document.createElement('div');\n",
              "        docLink.innerHTML = docLinkHtml;\n",
              "        element.appendChild(docLink);\n",
              "      }\n",
              "    </script>\n",
              "  </div>\n",
              "\n",
              "\n",
              "<div id=\"df-7bd3dcdd-7332-4c67-9813-82d2ee232ea4\">\n",
              "  <button class=\"colab-df-quickchart\" onclick=\"quickchart('df-7bd3dcdd-7332-4c67-9813-82d2ee232ea4')\"\n",
              "            title=\"Suggest charts\"\n",
              "            style=\"display:none;\">\n",
              "\n",
              "<svg xmlns=\"http://www.w3.org/2000/svg\" height=\"24px\"viewBox=\"0 0 24 24\"\n",
              "     width=\"24px\">\n",
              "    <g>\n",
              "        <path d=\"M19 3H5c-1.1 0-2 .9-2 2v14c0 1.1.9 2 2 2h14c1.1 0 2-.9 2-2V5c0-1.1-.9-2-2-2zM9 17H7v-7h2v7zm4 0h-2V7h2v10zm4 0h-2v-4h2v4z\"/>\n",
              "    </g>\n",
              "</svg>\n",
              "  </button>\n",
              "\n",
              "<style>\n",
              "  .colab-df-quickchart {\n",
              "      --bg-color: #E8F0FE;\n",
              "      --fill-color: #1967D2;\n",
              "      --hover-bg-color: #E2EBFA;\n",
              "      --hover-fill-color: #174EA6;\n",
              "      --disabled-fill-color: #AAA;\n",
              "      --disabled-bg-color: #DDD;\n",
              "  }\n",
              "\n",
              "  [theme=dark] .colab-df-quickchart {\n",
              "      --bg-color: #3B4455;\n",
              "      --fill-color: #D2E3FC;\n",
              "      --hover-bg-color: #434B5C;\n",
              "      --hover-fill-color: #FFFFFF;\n",
              "      --disabled-bg-color: #3B4455;\n",
              "      --disabled-fill-color: #666;\n",
              "  }\n",
              "\n",
              "  .colab-df-quickchart {\n",
              "    background-color: var(--bg-color);\n",
              "    border: none;\n",
              "    border-radius: 50%;\n",
              "    cursor: pointer;\n",
              "    display: none;\n",
              "    fill: var(--fill-color);\n",
              "    height: 32px;\n",
              "    padding: 0;\n",
              "    width: 32px;\n",
              "  }\n",
              "\n",
              "  .colab-df-quickchart:hover {\n",
              "    background-color: var(--hover-bg-color);\n",
              "    box-shadow: 0 1px 2px rgba(60, 64, 67, 0.3), 0 1px 3px 1px rgba(60, 64, 67, 0.15);\n",
              "    fill: var(--button-hover-fill-color);\n",
              "  }\n",
              "\n",
              "  .colab-df-quickchart-complete:disabled,\n",
              "  .colab-df-quickchart-complete:disabled:hover {\n",
              "    background-color: var(--disabled-bg-color);\n",
              "    fill: var(--disabled-fill-color);\n",
              "    box-shadow: none;\n",
              "  }\n",
              "\n",
              "  .colab-df-spinner {\n",
              "    border: 2px solid var(--fill-color);\n",
              "    border-color: transparent;\n",
              "    border-bottom-color: var(--fill-color);\n",
              "    animation:\n",
              "      spin 1s steps(1) infinite;\n",
              "  }\n",
              "\n",
              "  @keyframes spin {\n",
              "    0% {\n",
              "      border-color: transparent;\n",
              "      border-bottom-color: var(--fill-color);\n",
              "      border-left-color: var(--fill-color);\n",
              "    }\n",
              "    20% {\n",
              "      border-color: transparent;\n",
              "      border-left-color: var(--fill-color);\n",
              "      border-top-color: var(--fill-color);\n",
              "    }\n",
              "    30% {\n",
              "      border-color: transparent;\n",
              "      border-left-color: var(--fill-color);\n",
              "      border-top-color: var(--fill-color);\n",
              "      border-right-color: var(--fill-color);\n",
              "    }\n",
              "    40% {\n",
              "      border-color: transparent;\n",
              "      border-right-color: var(--fill-color);\n",
              "      border-top-color: var(--fill-color);\n",
              "    }\n",
              "    60% {\n",
              "      border-color: transparent;\n",
              "      border-right-color: var(--fill-color);\n",
              "    }\n",
              "    80% {\n",
              "      border-color: transparent;\n",
              "      border-right-color: var(--fill-color);\n",
              "      border-bottom-color: var(--fill-color);\n",
              "    }\n",
              "    90% {\n",
              "      border-color: transparent;\n",
              "      border-bottom-color: var(--fill-color);\n",
              "    }\n",
              "  }\n",
              "</style>\n",
              "\n",
              "  <script>\n",
              "    async function quickchart(key) {\n",
              "      const quickchartButtonEl =\n",
              "        document.querySelector('#' + key + ' button');\n",
              "      quickchartButtonEl.disabled = true;  // To prevent multiple clicks.\n",
              "      quickchartButtonEl.classList.add('colab-df-spinner');\n",
              "      try {\n",
              "        const charts = await google.colab.kernel.invokeFunction(\n",
              "            'suggestCharts', [key], {});\n",
              "      } catch (error) {\n",
              "        console.error('Error during call to suggestCharts:', error);\n",
              "      }\n",
              "      quickchartButtonEl.classList.remove('colab-df-spinner');\n",
              "      quickchartButtonEl.classList.add('colab-df-quickchart-complete');\n",
              "    }\n",
              "    (() => {\n",
              "      let quickchartButtonEl =\n",
              "        document.querySelector('#df-7bd3dcdd-7332-4c67-9813-82d2ee232ea4 button');\n",
              "      quickchartButtonEl.style.display =\n",
              "        google.colab.kernel.accessAllowed ? 'block' : 'none';\n",
              "    })();\n",
              "  </script>\n",
              "</div>\n",
              "\n",
              "    </div>\n",
              "  </div>\n"
            ],
            "application/vnd.google.colaboratory.intrinsic+json": {
              "type": "dataframe",
              "variable_name": "df7",
              "summary": "{\n  \"name\": \"df7\",\n  \"rows\": 928,\n  \"fields\": [\n    {\n      \"column\": \"Marca temporal\",\n      \"properties\": {\n        \"dtype\": \"category\",\n        \"num_unique_values\": 231,\n        \"samples\": [\n          \"17/08/2024 9:27:22\",\n          \"11/08/2021 12:18:25\",\n          \"9/08/2021 12:41:37\"\n        ],\n        \"semantic_type\": \"\",\n        \"description\": \"\"\n      }\n    },\n    {\n      \"column\": \"Sexo\",\n      \"properties\": {\n        \"dtype\": \"category\",\n        \"num_unique_values\": 2,\n        \"samples\": [\n          \"Mujer\",\n          \"Hombre\"\n        ],\n        \"semantic_type\": \"\",\n        \"description\": \"\"\n      }\n    },\n    {\n      \"column\": \"edad2\",\n      \"properties\": {\n        \"dtype\": \"number\",\n        \"std\": 3.989438032691711,\n        \"min\": 14.0,\n        \"max\": 48.0,\n        \"num_unique_values\": 23,\n        \"samples\": [\n          27.0,\n          25.0\n        ],\n        \"semantic_type\": \"\",\n        \"description\": \"\"\n      }\n    },\n    {\n      \"column\": \"app\",\n      \"properties\": {\n        \"dtype\": \"category\",\n        \"num_unique_values\": 4,\n        \"samples\": [\n          \"Instagram\",\n          \"YouTube\"\n        ],\n        \"semantic_type\": \"\",\n        \"description\": \"\"\n      }\n    },\n    {\n      \"column\": \"time\",\n      \"properties\": {\n        \"dtype\": \"object\",\n        \"num_unique_values\": 315,\n        \"samples\": [\n          \"4:07:00\",\n          \"1:00:00\"\n        ],\n        \"semantic_type\": \"\",\n        \"description\": \"\"\n      }\n    }\n  ]\n}"
            }
          },
          "metadata": {},
          "execution_count": 147
        }
      ]
    },
    {
      "cell_type": "code",
      "source": [
        "df7['time'].dtype"
      ],
      "metadata": {
        "colab": {
          "base_uri": "https://localhost:8080/"
        },
        "id": "XfUuli-0IDM_",
        "outputId": "4d9a4648-952b-4194-a968-4a3e96081542"
      },
      "execution_count": 149,
      "outputs": [
        {
          "output_type": "execute_result",
          "data": {
            "text/plain": [
              "dtype('O')"
            ]
          },
          "metadata": {},
          "execution_count": 149
        }
      ]
    },
    {
      "cell_type": "markdown",
      "source": [
        "Transformar horas a número"
      ],
      "metadata": {
        "id": "8xMu6iGJIiYs"
      }
    },
    {
      "cell_type": "code",
      "source": [
        "# split() separa texto\n",
        "'22:35:00'.split(':')"
      ],
      "metadata": {
        "colab": {
          "base_uri": "https://localhost:8080/"
        },
        "id": "MaQkRTNtIRsz",
        "outputId": "e4c0cca0-8d9c-4af7-de5c-d5e43959974e"
      },
      "execution_count": 150,
      "outputs": [
        {
          "output_type": "execute_result",
          "data": {
            "text/plain": [
              "['22', '35', '00']"
            ]
          },
          "metadata": {},
          "execution_count": 150
        }
      ]
    },
    {
      "cell_type": "code",
      "source": [
        "# función conversora\n",
        "def tiempo_a_num(x):\n",
        "  x = x.split(':')\n",
        "  return int(x[0]) + int(x[1])/60 + int(x[2])/3600"
      ],
      "metadata": {
        "id": "zt7hSJVjIsQ8"
      },
      "execution_count": 151,
      "outputs": []
    },
    {
      "cell_type": "code",
      "source": [
        "tiempo_a_num('22:30:00')"
      ],
      "metadata": {
        "colab": {
          "base_uri": "https://localhost:8080/"
        },
        "id": "sZhLENCXJtQx",
        "outputId": "cf7cc46f-e154-45f4-fc31-51ef186f59ab"
      },
      "execution_count": 153,
      "outputs": [
        {
          "output_type": "execute_result",
          "data": {
            "text/plain": [
              "22.5"
            ]
          },
          "metadata": {},
          "execution_count": 153
        }
      ]
    },
    {
      "cell_type": "code",
      "source": [
        "df7['time'] = df7['time'].apply(tiempo_a_num)"
      ],
      "metadata": {
        "id": "UZND_3G6J7Fo"
      },
      "execution_count": 155,
      "outputs": []
    },
    {
      "cell_type": "code",
      "source": [
        "df7.head()"
      ],
      "metadata": {
        "colab": {
          "base_uri": "https://localhost:8080/",
          "height": 206
        },
        "id": "vo2uEOuWKEsQ",
        "outputId": "39a75c14-8ee5-4a5b-fc92-3e14c2f932e9"
      },
      "execution_count": 158,
      "outputs": [
        {
          "output_type": "execute_result",
          "data": {
            "text/plain": [
              "       Marca temporal    Sexo  edad2     app       time\n",
              "0  9/08/2021 12:23:46  Hombre   16.0  TikTok   0.000000\n",
              "1  9/08/2021 12:25:01   Mujer   16.0  TikTok   0.833333\n",
              "2  9/08/2021 12:26:31  Hombre   17.0  TikTok   8.000000\n",
              "3  9/08/2021 12:28:49   Mujer   22.0  TikTok  22.583333\n",
              "4  9/08/2021 12:31:43  Hombre   16.0  TikTok   7.000000"
            ],
            "text/html": [
              "\n",
              "  <div id=\"df-120e612b-5b58-4248-9d4e-e59aa055d9f0\" class=\"colab-df-container\">\n",
              "    <div>\n",
              "<style scoped>\n",
              "    .dataframe tbody tr th:only-of-type {\n",
              "        vertical-align: middle;\n",
              "    }\n",
              "\n",
              "    .dataframe tbody tr th {\n",
              "        vertical-align: top;\n",
              "    }\n",
              "\n",
              "    .dataframe thead th {\n",
              "        text-align: right;\n",
              "    }\n",
              "</style>\n",
              "<table border=\"1\" class=\"dataframe\">\n",
              "  <thead>\n",
              "    <tr style=\"text-align: right;\">\n",
              "      <th></th>\n",
              "      <th>Marca temporal</th>\n",
              "      <th>Sexo</th>\n",
              "      <th>edad2</th>\n",
              "      <th>app</th>\n",
              "      <th>time</th>\n",
              "    </tr>\n",
              "  </thead>\n",
              "  <tbody>\n",
              "    <tr>\n",
              "      <th>0</th>\n",
              "      <td>9/08/2021 12:23:46</td>\n",
              "      <td>Hombre</td>\n",
              "      <td>16.0</td>\n",
              "      <td>TikTok</td>\n",
              "      <td>0.000000</td>\n",
              "    </tr>\n",
              "    <tr>\n",
              "      <th>1</th>\n",
              "      <td>9/08/2021 12:25:01</td>\n",
              "      <td>Mujer</td>\n",
              "      <td>16.0</td>\n",
              "      <td>TikTok</td>\n",
              "      <td>0.833333</td>\n",
              "    </tr>\n",
              "    <tr>\n",
              "      <th>2</th>\n",
              "      <td>9/08/2021 12:26:31</td>\n",
              "      <td>Hombre</td>\n",
              "      <td>17.0</td>\n",
              "      <td>TikTok</td>\n",
              "      <td>8.000000</td>\n",
              "    </tr>\n",
              "    <tr>\n",
              "      <th>3</th>\n",
              "      <td>9/08/2021 12:28:49</td>\n",
              "      <td>Mujer</td>\n",
              "      <td>22.0</td>\n",
              "      <td>TikTok</td>\n",
              "      <td>22.583333</td>\n",
              "    </tr>\n",
              "    <tr>\n",
              "      <th>4</th>\n",
              "      <td>9/08/2021 12:31:43</td>\n",
              "      <td>Hombre</td>\n",
              "      <td>16.0</td>\n",
              "      <td>TikTok</td>\n",
              "      <td>7.000000</td>\n",
              "    </tr>\n",
              "  </tbody>\n",
              "</table>\n",
              "</div>\n",
              "    <div class=\"colab-df-buttons\">\n",
              "\n",
              "  <div class=\"colab-df-container\">\n",
              "    <button class=\"colab-df-convert\" onclick=\"convertToInteractive('df-120e612b-5b58-4248-9d4e-e59aa055d9f0')\"\n",
              "            title=\"Convert this dataframe to an interactive table.\"\n",
              "            style=\"display:none;\">\n",
              "\n",
              "  <svg xmlns=\"http://www.w3.org/2000/svg\" height=\"24px\" viewBox=\"0 -960 960 960\">\n",
              "    <path d=\"M120-120v-720h720v720H120Zm60-500h600v-160H180v160Zm220 220h160v-160H400v160Zm0 220h160v-160H400v160ZM180-400h160v-160H180v160Zm440 0h160v-160H620v160ZM180-180h160v-160H180v160Zm440 0h160v-160H620v160Z\"/>\n",
              "  </svg>\n",
              "    </button>\n",
              "\n",
              "  <style>\n",
              "    .colab-df-container {\n",
              "      display:flex;\n",
              "      gap: 12px;\n",
              "    }\n",
              "\n",
              "    .colab-df-convert {\n",
              "      background-color: #E8F0FE;\n",
              "      border: none;\n",
              "      border-radius: 50%;\n",
              "      cursor: pointer;\n",
              "      display: none;\n",
              "      fill: #1967D2;\n",
              "      height: 32px;\n",
              "      padding: 0 0 0 0;\n",
              "      width: 32px;\n",
              "    }\n",
              "\n",
              "    .colab-df-convert:hover {\n",
              "      background-color: #E2EBFA;\n",
              "      box-shadow: 0px 1px 2px rgba(60, 64, 67, 0.3), 0px 1px 3px 1px rgba(60, 64, 67, 0.15);\n",
              "      fill: #174EA6;\n",
              "    }\n",
              "\n",
              "    .colab-df-buttons div {\n",
              "      margin-bottom: 4px;\n",
              "    }\n",
              "\n",
              "    [theme=dark] .colab-df-convert {\n",
              "      background-color: #3B4455;\n",
              "      fill: #D2E3FC;\n",
              "    }\n",
              "\n",
              "    [theme=dark] .colab-df-convert:hover {\n",
              "      background-color: #434B5C;\n",
              "      box-shadow: 0px 1px 3px 1px rgba(0, 0, 0, 0.15);\n",
              "      filter: drop-shadow(0px 1px 2px rgba(0, 0, 0, 0.3));\n",
              "      fill: #FFFFFF;\n",
              "    }\n",
              "  </style>\n",
              "\n",
              "    <script>\n",
              "      const buttonEl =\n",
              "        document.querySelector('#df-120e612b-5b58-4248-9d4e-e59aa055d9f0 button.colab-df-convert');\n",
              "      buttonEl.style.display =\n",
              "        google.colab.kernel.accessAllowed ? 'block' : 'none';\n",
              "\n",
              "      async function convertToInteractive(key) {\n",
              "        const element = document.querySelector('#df-120e612b-5b58-4248-9d4e-e59aa055d9f0');\n",
              "        const dataTable =\n",
              "          await google.colab.kernel.invokeFunction('convertToInteractive',\n",
              "                                                    [key], {});\n",
              "        if (!dataTable) return;\n",
              "\n",
              "        const docLinkHtml = 'Like what you see? Visit the ' +\n",
              "          '<a target=\"_blank\" href=https://colab.research.google.com/notebooks/data_table.ipynb>data table notebook</a>'\n",
              "          + ' to learn more about interactive tables.';\n",
              "        element.innerHTML = '';\n",
              "        dataTable['output_type'] = 'display_data';\n",
              "        await google.colab.output.renderOutput(dataTable, element);\n",
              "        const docLink = document.createElement('div');\n",
              "        docLink.innerHTML = docLinkHtml;\n",
              "        element.appendChild(docLink);\n",
              "      }\n",
              "    </script>\n",
              "  </div>\n",
              "\n",
              "\n",
              "<div id=\"df-46382e34-19b4-40a6-b31c-84c24942246a\">\n",
              "  <button class=\"colab-df-quickchart\" onclick=\"quickchart('df-46382e34-19b4-40a6-b31c-84c24942246a')\"\n",
              "            title=\"Suggest charts\"\n",
              "            style=\"display:none;\">\n",
              "\n",
              "<svg xmlns=\"http://www.w3.org/2000/svg\" height=\"24px\"viewBox=\"0 0 24 24\"\n",
              "     width=\"24px\">\n",
              "    <g>\n",
              "        <path d=\"M19 3H5c-1.1 0-2 .9-2 2v14c0 1.1.9 2 2 2h14c1.1 0 2-.9 2-2V5c0-1.1-.9-2-2-2zM9 17H7v-7h2v7zm4 0h-2V7h2v10zm4 0h-2v-4h2v4z\"/>\n",
              "    </g>\n",
              "</svg>\n",
              "  </button>\n",
              "\n",
              "<style>\n",
              "  .colab-df-quickchart {\n",
              "      --bg-color: #E8F0FE;\n",
              "      --fill-color: #1967D2;\n",
              "      --hover-bg-color: #E2EBFA;\n",
              "      --hover-fill-color: #174EA6;\n",
              "      --disabled-fill-color: #AAA;\n",
              "      --disabled-bg-color: #DDD;\n",
              "  }\n",
              "\n",
              "  [theme=dark] .colab-df-quickchart {\n",
              "      --bg-color: #3B4455;\n",
              "      --fill-color: #D2E3FC;\n",
              "      --hover-bg-color: #434B5C;\n",
              "      --hover-fill-color: #FFFFFF;\n",
              "      --disabled-bg-color: #3B4455;\n",
              "      --disabled-fill-color: #666;\n",
              "  }\n",
              "\n",
              "  .colab-df-quickchart {\n",
              "    background-color: var(--bg-color);\n",
              "    border: none;\n",
              "    border-radius: 50%;\n",
              "    cursor: pointer;\n",
              "    display: none;\n",
              "    fill: var(--fill-color);\n",
              "    height: 32px;\n",
              "    padding: 0;\n",
              "    width: 32px;\n",
              "  }\n",
              "\n",
              "  .colab-df-quickchart:hover {\n",
              "    background-color: var(--hover-bg-color);\n",
              "    box-shadow: 0 1px 2px rgba(60, 64, 67, 0.3), 0 1px 3px 1px rgba(60, 64, 67, 0.15);\n",
              "    fill: var(--button-hover-fill-color);\n",
              "  }\n",
              "\n",
              "  .colab-df-quickchart-complete:disabled,\n",
              "  .colab-df-quickchart-complete:disabled:hover {\n",
              "    background-color: var(--disabled-bg-color);\n",
              "    fill: var(--disabled-fill-color);\n",
              "    box-shadow: none;\n",
              "  }\n",
              "\n",
              "  .colab-df-spinner {\n",
              "    border: 2px solid var(--fill-color);\n",
              "    border-color: transparent;\n",
              "    border-bottom-color: var(--fill-color);\n",
              "    animation:\n",
              "      spin 1s steps(1) infinite;\n",
              "  }\n",
              "\n",
              "  @keyframes spin {\n",
              "    0% {\n",
              "      border-color: transparent;\n",
              "      border-bottom-color: var(--fill-color);\n",
              "      border-left-color: var(--fill-color);\n",
              "    }\n",
              "    20% {\n",
              "      border-color: transparent;\n",
              "      border-left-color: var(--fill-color);\n",
              "      border-top-color: var(--fill-color);\n",
              "    }\n",
              "    30% {\n",
              "      border-color: transparent;\n",
              "      border-left-color: var(--fill-color);\n",
              "      border-top-color: var(--fill-color);\n",
              "      border-right-color: var(--fill-color);\n",
              "    }\n",
              "    40% {\n",
              "      border-color: transparent;\n",
              "      border-right-color: var(--fill-color);\n",
              "      border-top-color: var(--fill-color);\n",
              "    }\n",
              "    60% {\n",
              "      border-color: transparent;\n",
              "      border-right-color: var(--fill-color);\n",
              "    }\n",
              "    80% {\n",
              "      border-color: transparent;\n",
              "      border-right-color: var(--fill-color);\n",
              "      border-bottom-color: var(--fill-color);\n",
              "    }\n",
              "    90% {\n",
              "      border-color: transparent;\n",
              "      border-bottom-color: var(--fill-color);\n",
              "    }\n",
              "  }\n",
              "</style>\n",
              "\n",
              "  <script>\n",
              "    async function quickchart(key) {\n",
              "      const quickchartButtonEl =\n",
              "        document.querySelector('#' + key + ' button');\n",
              "      quickchartButtonEl.disabled = true;  // To prevent multiple clicks.\n",
              "      quickchartButtonEl.classList.add('colab-df-spinner');\n",
              "      try {\n",
              "        const charts = await google.colab.kernel.invokeFunction(\n",
              "            'suggestCharts', [key], {});\n",
              "      } catch (error) {\n",
              "        console.error('Error during call to suggestCharts:', error);\n",
              "      }\n",
              "      quickchartButtonEl.classList.remove('colab-df-spinner');\n",
              "      quickchartButtonEl.classList.add('colab-df-quickchart-complete');\n",
              "    }\n",
              "    (() => {\n",
              "      let quickchartButtonEl =\n",
              "        document.querySelector('#df-46382e34-19b4-40a6-b31c-84c24942246a button');\n",
              "      quickchartButtonEl.style.display =\n",
              "        google.colab.kernel.accessAllowed ? 'block' : 'none';\n",
              "    })();\n",
              "  </script>\n",
              "</div>\n",
              "\n",
              "    </div>\n",
              "  </div>\n"
            ],
            "application/vnd.google.colaboratory.intrinsic+json": {
              "type": "dataframe",
              "variable_name": "df7",
              "summary": "{\n  \"name\": \"df7\",\n  \"rows\": 928,\n  \"fields\": [\n    {\n      \"column\": \"Marca temporal\",\n      \"properties\": {\n        \"dtype\": \"category\",\n        \"num_unique_values\": 231,\n        \"samples\": [\n          \"17/08/2024 9:27:22\",\n          \"11/08/2021 12:18:25\",\n          \"9/08/2021 12:41:37\"\n        ],\n        \"semantic_type\": \"\",\n        \"description\": \"\"\n      }\n    },\n    {\n      \"column\": \"Sexo\",\n      \"properties\": {\n        \"dtype\": \"category\",\n        \"num_unique_values\": 2,\n        \"samples\": [\n          \"Mujer\",\n          \"Hombre\"\n        ],\n        \"semantic_type\": \"\",\n        \"description\": \"\"\n      }\n    },\n    {\n      \"column\": \"edad2\",\n      \"properties\": {\n        \"dtype\": \"number\",\n        \"std\": 3.989438032691711,\n        \"min\": 14.0,\n        \"max\": 48.0,\n        \"num_unique_values\": 23,\n        \"samples\": [\n          27.0,\n          25.0\n        ],\n        \"semantic_type\": \"\",\n        \"description\": \"\"\n      }\n    },\n    {\n      \"column\": \"app\",\n      \"properties\": {\n        \"dtype\": \"category\",\n        \"num_unique_values\": 4,\n        \"samples\": [\n          \"Instagram\",\n          \"YouTube\"\n        ],\n        \"semantic_type\": \"\",\n        \"description\": \"\"\n      }\n    },\n    {\n      \"column\": \"time\",\n      \"properties\": {\n        \"dtype\": \"number\",\n        \"std\": 4.883543555637145,\n        \"min\": 0.0,\n        \"max\": 23.983333333333334,\n        \"num_unique_values\": 315,\n        \"samples\": [\n          4.116666666666666,\n          1.0\n        ],\n        \"semantic_type\": \"\",\n        \"description\": \"\"\n      }\n    }\n  ]\n}"
            }
          },
          "metadata": {},
          "execution_count": 158
        }
      ]
    },
    {
      "cell_type": "markdown",
      "source": [
        "#### **Boxplots**"
      ],
      "metadata": {
        "id": "U-k9pvMIK36-"
      }
    },
    {
      "cell_type": "code",
      "source": [
        "import plotly.express as px"
      ],
      "metadata": {
        "id": "VnA9QEfbK-fO"
      },
      "execution_count": 157,
      "outputs": []
    },
    {
      "cell_type": "code",
      "source": [
        "boxplot_01 = px.box(df7, y = 'time')"
      ],
      "metadata": {
        "id": "LrYBB9nWLDal"
      },
      "execution_count": 160,
      "outputs": []
    },
    {
      "cell_type": "code",
      "source": [
        "boxplot_01.show()"
      ],
      "metadata": {
        "colab": {
          "base_uri": "https://localhost:8080/",
          "height": 542
        },
        "id": "NA5BvOuELNIl",
        "outputId": "87b8cbad-14f5-4cc2-9458-b7387509e868"
      },
      "execution_count": 161,
      "outputs": [
        {
          "output_type": "display_data",
          "data": {
            "text/html": [
              "<html>\n",
              "<head><meta charset=\"utf-8\" /></head>\n",
              "<body>\n",
              "    <div>            <script src=\"https://cdnjs.cloudflare.com/ajax/libs/mathjax/2.7.5/MathJax.js?config=TeX-AMS-MML_SVG\"></script><script type=\"text/javascript\">if (window.MathJax && window.MathJax.Hub && window.MathJax.Hub.Config) {window.MathJax.Hub.Config({SVG: {font: \"STIX-Web\"}});}</script>                <script type=\"text/javascript\">window.PlotlyConfig = {MathJaxConfig: 'local'};</script>\n",
              "        <script charset=\"utf-8\" src=\"https://cdn.plot.ly/plotly-2.35.2.min.js\"></script>                <div id=\"8c981861-6a19-45df-af43-3bb472b8add8\" class=\"plotly-graph-div\" style=\"height:525px; width:100%;\"></div>            <script type=\"text/javascript\">                                    window.PLOTLYENV=window.PLOTLYENV || {};                                    if (document.getElementById(\"8c981861-6a19-45df-af43-3bb472b8add8\")) {                    Plotly.newPlot(                        \"8c981861-6a19-45df-af43-3bb472b8add8\",                        [{\"alignmentgroup\":\"True\",\"hovertemplate\":\"time=%{y}\\u003cextra\\u003e\\u003c\\u002fextra\\u003e\",\"legendgroup\":\"\",\"marker\":{\"color\":\"#636efa\"},\"name\":\"\",\"notched\":false,\"offsetgroup\":\"\",\"orientation\":\"v\",\"showlegend\":false,\"x0\":\" \",\"xaxis\":\"x\",\"y\":[0.0,0.8333333333333334,8.0,22.583333333333332,7.0,1.2666666666666666,8.0,13.183333333333334,0.85,22.566666666666666,4.0,2.783333333333333,3.0,0.0,4.0,0.0,0.0,1.95,1.0166666666666666,0.0,1.05,3.0,0.31666666666666665,0.6333333333333333,1.2666666666666666,10.733333333333333,12.0,2.3333333333333335,15.583333333333334,6.0,14.0,0.38333333333333336,20.0,0.0,2.5,3.216666666666667,12.0,13.0,1.6666666666666665,6.016666666666667,0.8,0.0,6.866666666666667,3.75,0.0,1.2666666666666666,1.0,4.0,8.866666666666667,5.666666666666667,3.0,3.0,0.5833333333333334,2.8333333333333335,3.25,0.0,7.0,5.0,1.3333333333333333,14.0,6.0,5.083333333333333,2.5,0.0,0.0,6.0,11.15,0.0,0.0,6.5,0.26666666666666666,10.0,0.0,0.0,0.9166666666666666,12.533333333333333,2.0,2.0,0.0,1.0,4.0,1.0,0.3,5.6,2.1333333333333333,0.3,0.0,4.8,1.0166666666666666,2.216666666666667,1.6166666666666667,0.8166666666666667,1.5166666666666666,1.0,0.0,0.5833333333333334,5.416666666666667,0.0,9.166666666666666,0.0,4.0,2.0,8.3,3.0,10.5,15.05,8.0,5.0,0.0,4.0,10.0,0.0,8.133333333333333,2.35,8.616666666666667,5.416666666666667,6.75,0.0,1.0,0.0,0.0,0.0,7.0,0.4166666666666667,3.466666666666667,1.0,8.0,8.0,3.25,1.8333333333333335,5.25,14.0,16.366666666666667,0.9166666666666666,5.666666666666667,6.0,8.583333333333334,1.3166666666666667,9.55,5.0,0.3333333333333333,3.0,3.0,7.866666666666667,1.4666666666666668,5.0,1.8666666666666667,7.0,2.45,5.4,3.6,22.166666666666668,2.0,1.0,10.0,5.0,15.566666666666666,2.0,3.0,3.2,11.0,9.366666666666667,14.4,7.2,1.0,4.166666666666667,10.0,13.083333333333334,7.95,3.2333333333333334,4.0,10.0,1.0166666666666666,2.0,1.0,2.033333333333333,0.0,0.0,17.016666666666666,10.0,4.416666666666667,3.9166666666666665,0.0,4.0,0.0,15.4,14.666666666666666,1.8,16.133333333333333,0.5,21.0,1.1166666666666667,0.45,0.0,5.5,0.0,6.65,0.0,0.0,23.216666666666665,7.0,7.0,10.0,22.15,1.2,2.0,0.05,10.366666666666667,0.0,12.0,1.0,4.3,0.0,1.0,0.0,0.0,1.0,12.35,6.283333333333333,4.283333333333333,9.516666666666667,2.8,7.366666666666666,5.716666666666667,5.666666666666667,19.366666666666667,23.0,2.0,16.416666666666668,9.0,9.866666666666667,12.083333333333334,1.0,0.0,4.0,11.35,1.0666666666666667,1.0,12.0,0.7166666666666667,0.9166666666666666,10.833333333333334,0.0,4.2,2.0,0.16666666666666666,6.0,6.066666666666666,0.0,2.95,4.083333333333333,5.45,0.16666666666666666,3.0,4.0,9.05,0.85,9.133333333333333,23.0,1.0,4.65,2.0,1.0,1.0,20.0,10.5,0.3333333333333333,1.8166666666666667,6.0,2.0,6.2,2.85,1.6,4.0,8.083333333333334,4.25,21.616666666666667,2.9333333333333336,4.283333333333333,5.0,1.9666666666666668,2.75,6.0,0.0,4.066666666666666,4.216666666666667,7.5,5.0,10.0,4.0,4.75,0.5,5.0,3.5666666666666664,1.0,4.85,0.0,8.0,4.833333333333333,0.0,2.45,13.283333333333333,2.0833333333333335,5.0,3.2,3.0,0.6,4.016666666666667,2.9166666666666665,8.0,0.0,0.0,0.0,3.0,0.48333333333333334,2.183333333333333,2.6166666666666667,3.8833333333333333,5.933333333333334,6.583333333333333,1.2333333333333334,6.666666666666667,1.1666666666666667,0.8166666666666667,4.883333333333333,0.5,2.6333333333333333,2.066666666666667,4.966666666666667,0.016666666666666666,1.55,0.0,7.0,4.0,1.9333333333333333,0.0,15.0,5.333333333333333,2.0,1.0,2.0,6.0,20.0,1.6333333333333333,7.35,5.5,0.6166666666666667,0.3333333333333333,3.1166666666666667,15.0,2.25,1.0,1.0,1.0,14.0,2.15,1.5666666666666667,2.0,9.0,5.0,2.7666666666666666,2.0,4.866666666666667,7.0,0.06666666666666667,1.35,2.4,2.0,6.766666666666667,2.9166666666666665,2.1666666666666665,9.0,6.0,6.0,1.0,6.55,2.25,20.0,1.55,7.0,1.2166666666666668,1.8166666666666667,8.933333333333334,8.1,5.0,12.0,8.0,0.7333333333333333,4.9,0.5,2.0,2.0166666666666666,5.616666666666667,4.983333333333333,4.866666666666667,1.7,1.0,4.25,0.0,7.55,1.9666666666666668,3.1333333333333333,5.0,12.0,0.0,0.0,10.0,0.5,3.0,0.0,15.0,0.0,1.2,0.75,0.0,0.5,0.0,4.35,4.116666666666666,0.48333333333333334,2.5,1.0,18.0,4.283333333333333,8.05,0.5,1.0,6.55,2.3666666666666667,16.333333333333332,0.26666666666666666,10.0,2.0,2.0,20.0,0.0,1.4666666666666668,1.0,0.38333333333333336,5.166666666666667,0.0,5.0,0.0,0.16666666666666666,0.0,1.0,0.25,0.0,0.5,6.0,2.35,2.4166666666666665,1.8,4.583333333333333,1.2,1.1166666666666667,1.9,2.466666666666667,0.25,3.0,7.3,0.23333333333333334,13.716666666666667,1.1,1.0,0.0,0.0,1.95,0.0,14.0,5.0,4.35,0.45,3.45,0.0,3.75,1.0,10.0,1.0,7.216666666666667,1.0,1.95,6.3,23.833333333333332,2.0,12.0,1.0,13.716666666666667,0.18333333333333332,3.6833333333333336,10.0,0.0,0.25,0.0,1.0,2.6,0.0,7.0,0.75,2.1166666666666667,7.0,4.0,2.1666666666666665,5.8,4.816666666666666,4.0,1.3333333333333333,7.916666666666667,16.15,1.05,0.6666666666666666,10.0,0.7666666666666667,0.95,0.0,2.0,0.6833333333333333,1.5666666666666667,4.133333333333334,10.0,7.0,6.0,2.2666666666666666,10.0,4.0,2.6833333333333336,0.8333333333333334,0.21666666666666667,0.0,4.0,6.25,0.0,2.85,1.9,2.0,2.0,2.9,1.0,0.25,2.8666666666666667,1.3333333333333333,8.0,0.08333333333333333,0.0,0.0,1.0,0.6166666666666667,1.2666666666666666,0.55,0.2,0.0,1.8666666666666667,0.18333333333333332,2.533333333333333,1.2833333333333332,0.4666666666666667,1.4,0.05,0.5333333333333333,0.03333333333333333,3.9166666666666665,0.0,6.233333333333333,0.0,2.0,2.0,8.15,0.5,5.0,5.05,1.0,0.0,5.0,6.0,15.0,1.1166666666666667,5.016666666666667,6.466666666666667,2.1166666666666667,2.0,0.15,5.0,1.0,10.0,23.0,2.0,4.0,0.0,0.08333333333333333,1.0,0.0,5.0,0.21666666666666667,0.0,3.3333333333333335,1.0,0.9166666666666666,0.21666666666666667,0.016666666666666666,0.4,0.13333333333333333,0.5333333333333333,0.4,0.5,0.0,5.0,5.0,1.8333333333333335,0.6166666666666667,5.0,0.5333333333333333,5.0,0.5,1.6,3.6666666666666665,6.1,1.0,10.0,4.0,0.55,0.03333333333333333,0.5,1.5,0.26666666666666666,0.7,1.1833333333333333,1.9,0.6,1.0,4.333333333333333,12.0,0.31666666666666665,0.9666666666666667,0.13333333333333333,5.0,5.0,1.0166666666666666,2.0,2.9166666666666665,0.5,5.0,5.0,17.0,5.0,3.55,2.8333333333333335,0.0,3.0,0.0,2.5,1.0833333333333333,0.0,2.1666666666666665,1.0,10.0,0.95,5.616666666666667,0.03333333333333333,8.0,0.0,1.3333333333333333,2.3833333333333333,0.55,10.0,1.0,4.0,20.0,4.966666666666667,1.0166666666666666,0.0,0.13333333333333333,1.0,5.716666666666667,5.0,1.0,0.5,3.0,2.3666666666666667,1.75,1.0,5.0,5.0,0.016666666666666666,0.1,10.0,0.5666666666666667,0.25,0.0,2.0833333333333335,0.016666666666666666,8.366666666666667,0.0,3.0166666666666666,1.2833333333333332,2.75,5.083333333333333,2.0,1.0,8.0,2.6666666666666665,3.4333333333333336,3.0,2.0,6.283333333333333,0.5833333333333334,11.9,2.0,3.75,2.0,5.0,10.0,11.566666666666666,9.0,1.3,0.8166666666666667,8.183333333333334,0.0,0.0,3.8333333333333335,0.4166666666666667,2.35,0.48333333333333334,23.833333333333332,0.0,1.3833333333333333,1.0,8.0,1.3833333333333333,0.0,23.983333333333334,1.0,1.1333333333333333,1.0,4.583333333333333,1.25,0.31666666666666665,0.0,20.0,5.516666666666667,9.25,14.0,0.0,0.0,0.0,1.1666666666666667,0.18333333333333332,1.0,3.0,0.5166666666666667,0.0,1.1333333333333333,3.0,0.0,1.0,0.11666666666666667,2.0,1.0,0.0,0.5,3.5,10.0,2.0,2.3,23.0,0.23333333333333334,0.0,0.0,1.0,2.6666666666666665,10.0,2.0,1.5166666666666666,1.0,10.0,7.833333333333333,0.0,1.0,0.0,2.3166666666666664,0.0,0.08333333333333333,0.2,1.8333333333333335,6.283333333333333,0.4166666666666667,0.0,0.0,2.4333333333333336,0.0,0.5,0.3333333333333333,1.3333333333333333,3.7,0.08333333333333333,0.25,7.0,10.0,0.0,2.0,1.0,5.0,3.0,0.0,3.0,3.0,16.0,10.0,0.9833333333333333,0.2833333333333333,2.0,0.8833333333333333,3.5,0.6166666666666667,1.0,0.0,10.0,23.0,9.0,0.0,0.0,0.15,0.0,4.0,2.0,0.16666666666666666,0.5,0.25,6.0,0.21666666666666667,0.0,1.1833333333333333,0.5,0.5833333333333334,0.03333333333333333,0.08333333333333333,2.0,3.0,2.0,3.0,0.9,0.0,1.0,0.2833333333333333,7.0,0.0,0.0,0.0,3.7333333333333334,3.0,2.0,4.0,0.0,0.15,0.5,0.5,0.0,0.0,0.0,5.1,2.4166666666666665,1.0,4.333333333333333,0.0,0.0,3.0166666666666666,0.016666666666666666,7.0,3.0,2.033333333333333,3.0,1.0,1.2833333333333332,3.0,0.0,17.0,15.0,1.3666666666666667,4.116666666666666,2.5,10.0,0.0,0.1,0.5,5.0,0.5,1.0,5.0,20.516666666666666,20.1,0.0,0.0,3.2,0.13333333333333333,14.683333333333334,0.0,9.0,0.0,6.0,20.0,0.0,0.0,0.0,1.0833333333333333,0.08333333333333333,19.716666666666665,3.0,4.0,0.0,5.0,1.0,2.3333333333333335,3.0,5.0,0.0,23.4,0.0,1.75,1.4333333333333333,0.0,0.0,1.5,0.05,3.8333333333333335,0.0,0.0,0.25,1.7833333333333332,4.033333333333333],\"y0\":\" \",\"yaxis\":\"y\",\"type\":\"box\"}],                        {\"template\":{\"data\":{\"histogram2dcontour\":[{\"type\":\"histogram2dcontour\",\"colorbar\":{\"outlinewidth\":0,\"ticks\":\"\"},\"colorscale\":[[0.0,\"#0d0887\"],[0.1111111111111111,\"#46039f\"],[0.2222222222222222,\"#7201a8\"],[0.3333333333333333,\"#9c179e\"],[0.4444444444444444,\"#bd3786\"],[0.5555555555555556,\"#d8576b\"],[0.6666666666666666,\"#ed7953\"],[0.7777777777777778,\"#fb9f3a\"],[0.8888888888888888,\"#fdca26\"],[1.0,\"#f0f921\"]]}],\"choropleth\":[{\"type\":\"choropleth\",\"colorbar\":{\"outlinewidth\":0,\"ticks\":\"\"}}],\"histogram2d\":[{\"type\":\"histogram2d\",\"colorbar\":{\"outlinewidth\":0,\"ticks\":\"\"},\"colorscale\":[[0.0,\"#0d0887\"],[0.1111111111111111,\"#46039f\"],[0.2222222222222222,\"#7201a8\"],[0.3333333333333333,\"#9c179e\"],[0.4444444444444444,\"#bd3786\"],[0.5555555555555556,\"#d8576b\"],[0.6666666666666666,\"#ed7953\"],[0.7777777777777778,\"#fb9f3a\"],[0.8888888888888888,\"#fdca26\"],[1.0,\"#f0f921\"]]}],\"heatmap\":[{\"type\":\"heatmap\",\"colorbar\":{\"outlinewidth\":0,\"ticks\":\"\"},\"colorscale\":[[0.0,\"#0d0887\"],[0.1111111111111111,\"#46039f\"],[0.2222222222222222,\"#7201a8\"],[0.3333333333333333,\"#9c179e\"],[0.4444444444444444,\"#bd3786\"],[0.5555555555555556,\"#d8576b\"],[0.6666666666666666,\"#ed7953\"],[0.7777777777777778,\"#fb9f3a\"],[0.8888888888888888,\"#fdca26\"],[1.0,\"#f0f921\"]]}],\"heatmapgl\":[{\"type\":\"heatmapgl\",\"colorbar\":{\"outlinewidth\":0,\"ticks\":\"\"},\"colorscale\":[[0.0,\"#0d0887\"],[0.1111111111111111,\"#46039f\"],[0.2222222222222222,\"#7201a8\"],[0.3333333333333333,\"#9c179e\"],[0.4444444444444444,\"#bd3786\"],[0.5555555555555556,\"#d8576b\"],[0.6666666666666666,\"#ed7953\"],[0.7777777777777778,\"#fb9f3a\"],[0.8888888888888888,\"#fdca26\"],[1.0,\"#f0f921\"]]}],\"contourcarpet\":[{\"type\":\"contourcarpet\",\"colorbar\":{\"outlinewidth\":0,\"ticks\":\"\"}}],\"contour\":[{\"type\":\"contour\",\"colorbar\":{\"outlinewidth\":0,\"ticks\":\"\"},\"colorscale\":[[0.0,\"#0d0887\"],[0.1111111111111111,\"#46039f\"],[0.2222222222222222,\"#7201a8\"],[0.3333333333333333,\"#9c179e\"],[0.4444444444444444,\"#bd3786\"],[0.5555555555555556,\"#d8576b\"],[0.6666666666666666,\"#ed7953\"],[0.7777777777777778,\"#fb9f3a\"],[0.8888888888888888,\"#fdca26\"],[1.0,\"#f0f921\"]]}],\"surface\":[{\"type\":\"surface\",\"colorbar\":{\"outlinewidth\":0,\"ticks\":\"\"},\"colorscale\":[[0.0,\"#0d0887\"],[0.1111111111111111,\"#46039f\"],[0.2222222222222222,\"#7201a8\"],[0.3333333333333333,\"#9c179e\"],[0.4444444444444444,\"#bd3786\"],[0.5555555555555556,\"#d8576b\"],[0.6666666666666666,\"#ed7953\"],[0.7777777777777778,\"#fb9f3a\"],[0.8888888888888888,\"#fdca26\"],[1.0,\"#f0f921\"]]}],\"mesh3d\":[{\"type\":\"mesh3d\",\"colorbar\":{\"outlinewidth\":0,\"ticks\":\"\"}}],\"scatter\":[{\"fillpattern\":{\"fillmode\":\"overlay\",\"size\":10,\"solidity\":0.2},\"type\":\"scatter\"}],\"parcoords\":[{\"type\":\"parcoords\",\"line\":{\"colorbar\":{\"outlinewidth\":0,\"ticks\":\"\"}}}],\"scatterpolargl\":[{\"type\":\"scatterpolargl\",\"marker\":{\"colorbar\":{\"outlinewidth\":0,\"ticks\":\"\"}}}],\"bar\":[{\"error_x\":{\"color\":\"#2a3f5f\"},\"error_y\":{\"color\":\"#2a3f5f\"},\"marker\":{\"line\":{\"color\":\"#E5ECF6\",\"width\":0.5},\"pattern\":{\"fillmode\":\"overlay\",\"size\":10,\"solidity\":0.2}},\"type\":\"bar\"}],\"scattergeo\":[{\"type\":\"scattergeo\",\"marker\":{\"colorbar\":{\"outlinewidth\":0,\"ticks\":\"\"}}}],\"scatterpolar\":[{\"type\":\"scatterpolar\",\"marker\":{\"colorbar\":{\"outlinewidth\":0,\"ticks\":\"\"}}}],\"histogram\":[{\"marker\":{\"pattern\":{\"fillmode\":\"overlay\",\"size\":10,\"solidity\":0.2}},\"type\":\"histogram\"}],\"scattergl\":[{\"type\":\"scattergl\",\"marker\":{\"colorbar\":{\"outlinewidth\":0,\"ticks\":\"\"}}}],\"scatter3d\":[{\"type\":\"scatter3d\",\"line\":{\"colorbar\":{\"outlinewidth\":0,\"ticks\":\"\"}},\"marker\":{\"colorbar\":{\"outlinewidth\":0,\"ticks\":\"\"}}}],\"scattermapbox\":[{\"type\":\"scattermapbox\",\"marker\":{\"colorbar\":{\"outlinewidth\":0,\"ticks\":\"\"}}}],\"scatterternary\":[{\"type\":\"scatterternary\",\"marker\":{\"colorbar\":{\"outlinewidth\":0,\"ticks\":\"\"}}}],\"scattercarpet\":[{\"type\":\"scattercarpet\",\"marker\":{\"colorbar\":{\"outlinewidth\":0,\"ticks\":\"\"}}}],\"carpet\":[{\"aaxis\":{\"endlinecolor\":\"#2a3f5f\",\"gridcolor\":\"white\",\"linecolor\":\"white\",\"minorgridcolor\":\"white\",\"startlinecolor\":\"#2a3f5f\"},\"baxis\":{\"endlinecolor\":\"#2a3f5f\",\"gridcolor\":\"white\",\"linecolor\":\"white\",\"minorgridcolor\":\"white\",\"startlinecolor\":\"#2a3f5f\"},\"type\":\"carpet\"}],\"table\":[{\"cells\":{\"fill\":{\"color\":\"#EBF0F8\"},\"line\":{\"color\":\"white\"}},\"header\":{\"fill\":{\"color\":\"#C8D4E3\"},\"line\":{\"color\":\"white\"}},\"type\":\"table\"}],\"barpolar\":[{\"marker\":{\"line\":{\"color\":\"#E5ECF6\",\"width\":0.5},\"pattern\":{\"fillmode\":\"overlay\",\"size\":10,\"solidity\":0.2}},\"type\":\"barpolar\"}],\"pie\":[{\"automargin\":true,\"type\":\"pie\"}]},\"layout\":{\"autotypenumbers\":\"strict\",\"colorway\":[\"#636efa\",\"#EF553B\",\"#00cc96\",\"#ab63fa\",\"#FFA15A\",\"#19d3f3\",\"#FF6692\",\"#B6E880\",\"#FF97FF\",\"#FECB52\"],\"font\":{\"color\":\"#2a3f5f\"},\"hovermode\":\"closest\",\"hoverlabel\":{\"align\":\"left\"},\"paper_bgcolor\":\"white\",\"plot_bgcolor\":\"#E5ECF6\",\"polar\":{\"bgcolor\":\"#E5ECF6\",\"angularaxis\":{\"gridcolor\":\"white\",\"linecolor\":\"white\",\"ticks\":\"\"},\"radialaxis\":{\"gridcolor\":\"white\",\"linecolor\":\"white\",\"ticks\":\"\"}},\"ternary\":{\"bgcolor\":\"#E5ECF6\",\"aaxis\":{\"gridcolor\":\"white\",\"linecolor\":\"white\",\"ticks\":\"\"},\"baxis\":{\"gridcolor\":\"white\",\"linecolor\":\"white\",\"ticks\":\"\"},\"caxis\":{\"gridcolor\":\"white\",\"linecolor\":\"white\",\"ticks\":\"\"}},\"coloraxis\":{\"colorbar\":{\"outlinewidth\":0,\"ticks\":\"\"}},\"colorscale\":{\"sequential\":[[0.0,\"#0d0887\"],[0.1111111111111111,\"#46039f\"],[0.2222222222222222,\"#7201a8\"],[0.3333333333333333,\"#9c179e\"],[0.4444444444444444,\"#bd3786\"],[0.5555555555555556,\"#d8576b\"],[0.6666666666666666,\"#ed7953\"],[0.7777777777777778,\"#fb9f3a\"],[0.8888888888888888,\"#fdca26\"],[1.0,\"#f0f921\"]],\"sequentialminus\":[[0.0,\"#0d0887\"],[0.1111111111111111,\"#46039f\"],[0.2222222222222222,\"#7201a8\"],[0.3333333333333333,\"#9c179e\"],[0.4444444444444444,\"#bd3786\"],[0.5555555555555556,\"#d8576b\"],[0.6666666666666666,\"#ed7953\"],[0.7777777777777778,\"#fb9f3a\"],[0.8888888888888888,\"#fdca26\"],[1.0,\"#f0f921\"]],\"diverging\":[[0,\"#8e0152\"],[0.1,\"#c51b7d\"],[0.2,\"#de77ae\"],[0.3,\"#f1b6da\"],[0.4,\"#fde0ef\"],[0.5,\"#f7f7f7\"],[0.6,\"#e6f5d0\"],[0.7,\"#b8e186\"],[0.8,\"#7fbc41\"],[0.9,\"#4d9221\"],[1,\"#276419\"]]},\"xaxis\":{\"gridcolor\":\"white\",\"linecolor\":\"white\",\"ticks\":\"\",\"title\":{\"standoff\":15},\"zerolinecolor\":\"white\",\"automargin\":true,\"zerolinewidth\":2},\"yaxis\":{\"gridcolor\":\"white\",\"linecolor\":\"white\",\"ticks\":\"\",\"title\":{\"standoff\":15},\"zerolinecolor\":\"white\",\"automargin\":true,\"zerolinewidth\":2},\"scene\":{\"xaxis\":{\"backgroundcolor\":\"#E5ECF6\",\"gridcolor\":\"white\",\"linecolor\":\"white\",\"showbackground\":true,\"ticks\":\"\",\"zerolinecolor\":\"white\",\"gridwidth\":2},\"yaxis\":{\"backgroundcolor\":\"#E5ECF6\",\"gridcolor\":\"white\",\"linecolor\":\"white\",\"showbackground\":true,\"ticks\":\"\",\"zerolinecolor\":\"white\",\"gridwidth\":2},\"zaxis\":{\"backgroundcolor\":\"#E5ECF6\",\"gridcolor\":\"white\",\"linecolor\":\"white\",\"showbackground\":true,\"ticks\":\"\",\"zerolinecolor\":\"white\",\"gridwidth\":2}},\"shapedefaults\":{\"line\":{\"color\":\"#2a3f5f\"}},\"annotationdefaults\":{\"arrowcolor\":\"#2a3f5f\",\"arrowhead\":0,\"arrowwidth\":1},\"geo\":{\"bgcolor\":\"white\",\"landcolor\":\"#E5ECF6\",\"subunitcolor\":\"white\",\"showland\":true,\"showlakes\":true,\"lakecolor\":\"white\"},\"title\":{\"x\":0.05},\"mapbox\":{\"style\":\"light\"}}},\"xaxis\":{\"anchor\":\"y\",\"domain\":[0.0,1.0]},\"yaxis\":{\"anchor\":\"x\",\"domain\":[0.0,1.0],\"title\":{\"text\":\"time\"}},\"legend\":{\"tracegroupgap\":0},\"margin\":{\"t\":60},\"boxmode\":\"group\"},                        {\"responsive\": true}                    ).then(function(){\n",
              "                            \n",
              "var gd = document.getElementById('8c981861-6a19-45df-af43-3bb472b8add8');\n",
              "var x = new MutationObserver(function (mutations, observer) {{\n",
              "        var display = window.getComputedStyle(gd).display;\n",
              "        if (!display || display === 'none') {{\n",
              "            console.log([gd, 'removed!']);\n",
              "            Plotly.purge(gd);\n",
              "            observer.disconnect();\n",
              "        }}\n",
              "}});\n",
              "\n",
              "// Listen for the removal of the full notebook cells\n",
              "var notebookContainer = gd.closest('#notebook-container');\n",
              "if (notebookContainer) {{\n",
              "    x.observe(notebookContainer, {childList: true});\n",
              "}}\n",
              "\n",
              "// Listen for the clearing of the current output cell\n",
              "var outputEl = gd.closest('.output');\n",
              "if (outputEl) {{\n",
              "    x.observe(outputEl, {childList: true});\n",
              "}}\n",
              "\n",
              "                        })                };                            </script>        </div>\n",
              "</body>\n",
              "</html>"
            ]
          },
          "metadata": {}
        }
      ]
    },
    {
      "cell_type": "markdown",
      "source": [
        "Aperturar por app"
      ],
      "metadata": {
        "id": "UywbWj1xOAYV"
      }
    },
    {
      "cell_type": "code",
      "source": [
        "px.box(df7, x = 'app', y = 'time')"
      ],
      "metadata": {
        "colab": {
          "base_uri": "https://localhost:8080/",
          "height": 542
        },
        "id": "UsfUW8E3LdTE",
        "outputId": "c898160d-d00f-448c-a5f8-eb5db671af23"
      },
      "execution_count": 164,
      "outputs": [
        {
          "output_type": "display_data",
          "data": {
            "text/html": [
              "<html>\n",
              "<head><meta charset=\"utf-8\" /></head>\n",
              "<body>\n",
              "    <div>            <script src=\"https://cdnjs.cloudflare.com/ajax/libs/mathjax/2.7.5/MathJax.js?config=TeX-AMS-MML_SVG\"></script><script type=\"text/javascript\">if (window.MathJax && window.MathJax.Hub && window.MathJax.Hub.Config) {window.MathJax.Hub.Config({SVG: {font: \"STIX-Web\"}});}</script>                <script type=\"text/javascript\">window.PlotlyConfig = {MathJaxConfig: 'local'};</script>\n",
              "        <script charset=\"utf-8\" src=\"https://cdn.plot.ly/plotly-2.35.2.min.js\"></script>                <div id=\"f18ac450-3455-45cf-8dec-a3928ba27151\" class=\"plotly-graph-div\" style=\"height:525px; width:100%;\"></div>            <script type=\"text/javascript\">                                    window.PLOTLYENV=window.PLOTLYENV || {};                                    if (document.getElementById(\"f18ac450-3455-45cf-8dec-a3928ba27151\")) {                    Plotly.newPlot(                        \"f18ac450-3455-45cf-8dec-a3928ba27151\",                        [{\"alignmentgroup\":\"True\",\"hovertemplate\":\"app=%{x}\\u003cbr\\u003etime=%{y}\\u003cextra\\u003e\\u003c\\u002fextra\\u003e\",\"legendgroup\":\"\",\"marker\":{\"color\":\"#636efa\"},\"name\":\"\",\"notched\":false,\"offsetgroup\":\"\",\"orientation\":\"v\",\"showlegend\":false,\"x\":[\"TikTok\",\"TikTok\",\"TikTok\",\"TikTok\",\"TikTok\",\"TikTok\",\"TikTok\",\"TikTok\",\"TikTok\",\"TikTok\",\"TikTok\",\"TikTok\",\"TikTok\",\"TikTok\",\"TikTok\",\"TikTok\",\"TikTok\",\"TikTok\",\"TikTok\",\"TikTok\",\"TikTok\",\"TikTok\",\"TikTok\",\"TikTok\",\"TikTok\",\"TikTok\",\"TikTok\",\"TikTok\",\"TikTok\",\"TikTok\",\"TikTok\",\"TikTok\",\"TikTok\",\"TikTok\",\"TikTok\",\"TikTok\",\"TikTok\",\"TikTok\",\"TikTok\",\"TikTok\",\"TikTok\",\"TikTok\",\"TikTok\",\"TikTok\",\"TikTok\",\"TikTok\",\"TikTok\",\"TikTok\",\"TikTok\",\"TikTok\",\"TikTok\",\"TikTok\",\"TikTok\",\"TikTok\",\"TikTok\",\"TikTok\",\"TikTok\",\"TikTok\",\"TikTok\",\"TikTok\",\"TikTok\",\"TikTok\",\"TikTok\",\"TikTok\",\"TikTok\",\"TikTok\",\"TikTok\",\"TikTok\",\"TikTok\",\"TikTok\",\"TikTok\",\"TikTok\",\"TikTok\",\"TikTok\",\"TikTok\",\"TikTok\",\"TikTok\",\"TikTok\",\"TikTok\",\"TikTok\",\"TikTok\",\"TikTok\",\"TikTok\",\"TikTok\",\"TikTok\",\"TikTok\",\"TikTok\",\"TikTok\",\"TikTok\",\"TikTok\",\"TikTok\",\"TikTok\",\"TikTok\",\"TikTok\",\"TikTok\",\"TikTok\",\"TikTok\",\"TikTok\",\"TikTok\",\"TikTok\",\"TikTok\",\"TikTok\",\"TikTok\",\"TikTok\",\"TikTok\",\"TikTok\",\"TikTok\",\"TikTok\",\"TikTok\",\"TikTok\",\"TikTok\",\"TikTok\",\"TikTok\",\"TikTok\",\"TikTok\",\"TikTok\",\"TikTok\",\"TikTok\",\"TikTok\",\"TikTok\",\"TikTok\",\"TikTok\",\"TikTok\",\"TikTok\",\"TikTok\",\"TikTok\",\"TikTok\",\"TikTok\",\"TikTok\",\"TikTok\",\"TikTok\",\"TikTok\",\"TikTok\",\"TikTok\",\"TikTok\",\"TikTok\",\"TikTok\",\"TikTok\",\"TikTok\",\"TikTok\",\"TikTok\",\"TikTok\",\"TikTok\",\"TikTok\",\"TikTok\",\"TikTok\",\"TikTok\",\"TikTok\",\"TikTok\",\"TikTok\",\"TikTok\",\"TikTok\",\"TikTok\",\"TikTok\",\"TikTok\",\"TikTok\",\"TikTok\",\"TikTok\",\"TikTok\",\"TikTok\",\"TikTok\",\"TikTok\",\"TikTok\",\"TikTok\",\"TikTok\",\"TikTok\",\"TikTok\",\"TikTok\",\"TikTok\",\"TikTok\",\"TikTok\",\"TikTok\",\"TikTok\",\"TikTok\",\"TikTok\",\"TikTok\",\"TikTok\",\"TikTok\",\"TikTok\",\"TikTok\",\"TikTok\",\"TikTok\",\"TikTok\",\"TikTok\",\"TikTok\",\"TikTok\",\"TikTok\",\"TikTok\",\"TikTok\",\"TikTok\",\"TikTok\",\"TikTok\",\"TikTok\",\"TikTok\",\"TikTok\",\"TikTok\",\"TikTok\",\"TikTok\",\"TikTok\",\"TikTok\",\"TikTok\",\"TikTok\",\"TikTok\",\"TikTok\",\"TikTok\",\"TikTok\",\"TikTok\",\"TikTok\",\"TikTok\",\"TikTok\",\"TikTok\",\"TikTok\",\"TikTok\",\"TikTok\",\"TikTok\",\"TikTok\",\"TikTok\",\"TikTok\",\"TikTok\",\"TikTok\",\"TikTok\",\"TikTok\",\"TikTok\",\"TikTok\",\"TikTok\",\"TikTok\",\"TikTok\",\"TikTok\",\"TikTok\",\"TikTok\",\"TikTok\",\"TikTok\",\"Instagram\",\"Instagram\",\"Instagram\",\"Instagram\",\"Instagram\",\"Instagram\",\"Instagram\",\"Instagram\",\"Instagram\",\"Instagram\",\"Instagram\",\"Instagram\",\"Instagram\",\"Instagram\",\"Instagram\",\"Instagram\",\"Instagram\",\"Instagram\",\"Instagram\",\"Instagram\",\"Instagram\",\"Instagram\",\"Instagram\",\"Instagram\",\"Instagram\",\"Instagram\",\"Instagram\",\"Instagram\",\"Instagram\",\"Instagram\",\"Instagram\",\"Instagram\",\"Instagram\",\"Instagram\",\"Instagram\",\"Instagram\",\"Instagram\",\"Instagram\",\"Instagram\",\"Instagram\",\"Instagram\",\"Instagram\",\"Instagram\",\"Instagram\",\"Instagram\",\"Instagram\",\"Instagram\",\"Instagram\",\"Instagram\",\"Instagram\",\"Instagram\",\"Instagram\",\"Instagram\",\"Instagram\",\"Instagram\",\"Instagram\",\"Instagram\",\"Instagram\",\"Instagram\",\"Instagram\",\"Instagram\",\"Instagram\",\"Instagram\",\"Instagram\",\"Instagram\",\"Instagram\",\"Instagram\",\"Instagram\",\"Instagram\",\"Instagram\",\"Instagram\",\"Instagram\",\"Instagram\",\"Instagram\",\"Instagram\",\"Instagram\",\"Instagram\",\"Instagram\",\"Instagram\",\"Instagram\",\"Instagram\",\"Instagram\",\"Instagram\",\"Instagram\",\"Instagram\",\"Instagram\",\"Instagram\",\"Instagram\",\"Instagram\",\"Instagram\",\"Instagram\",\"Instagram\",\"Instagram\",\"Instagram\",\"Instagram\",\"Instagram\",\"Instagram\",\"Instagram\",\"Instagram\",\"Instagram\",\"Instagram\",\"Instagram\",\"Instagram\",\"Instagram\",\"Instagram\",\"Instagram\",\"Instagram\",\"Instagram\",\"Instagram\",\"Instagram\",\"Instagram\",\"Instagram\",\"Instagram\",\"Instagram\",\"Instagram\",\"Instagram\",\"Instagram\",\"Instagram\",\"Instagram\",\"Instagram\",\"Instagram\",\"Instagram\",\"Instagram\",\"Instagram\",\"Instagram\",\"Instagram\",\"Instagram\",\"Instagram\",\"Instagram\",\"Instagram\",\"Instagram\",\"Instagram\",\"Instagram\",\"Instagram\",\"Instagram\",\"Instagram\",\"Instagram\",\"Instagram\",\"Instagram\",\"Instagram\",\"Instagram\",\"Instagram\",\"Instagram\",\"Instagram\",\"Instagram\",\"Instagram\",\"Instagram\",\"Instagram\",\"Instagram\",\"Instagram\",\"Instagram\",\"Instagram\",\"Instagram\",\"Instagram\",\"Instagram\",\"Instagram\",\"Instagram\",\"Instagram\",\"Instagram\",\"Instagram\",\"Instagram\",\"Instagram\",\"Instagram\",\"Instagram\",\"Instagram\",\"Instagram\",\"Instagram\",\"Instagram\",\"Instagram\",\"Instagram\",\"Instagram\",\"Instagram\",\"Instagram\",\"Instagram\",\"Instagram\",\"Instagram\",\"Instagram\",\"Instagram\",\"Instagram\",\"Instagram\",\"Instagram\",\"Instagram\",\"Instagram\",\"Instagram\",\"Instagram\",\"Instagram\",\"Instagram\",\"Instagram\",\"Instagram\",\"Instagram\",\"Instagram\",\"Instagram\",\"Instagram\",\"Instagram\",\"Instagram\",\"Instagram\",\"Instagram\",\"Instagram\",\"Instagram\",\"Instagram\",\"Instagram\",\"Instagram\",\"Instagram\",\"Instagram\",\"Instagram\",\"Instagram\",\"Instagram\",\"Instagram\",\"Instagram\",\"Instagram\",\"Instagram\",\"Instagram\",\"Instagram\",\"Instagram\",\"Instagram\",\"Instagram\",\"Instagram\",\"Instagram\",\"Instagram\",\"Instagram\",\"Instagram\",\"Instagram\",\"Instagram\",\"Instagram\",\"Instagram\",\"Instagram\",\"Instagram\",\"Instagram\",\"Instagram\",\"Instagram\",\"Instagram\",\"Instagram\",\"Facebook\",\"Facebook\",\"Facebook\",\"Facebook\",\"Facebook\",\"Facebook\",\"Facebook\",\"Facebook\",\"Facebook\",\"Facebook\",\"Facebook\",\"Facebook\",\"Facebook\",\"Facebook\",\"Facebook\",\"Facebook\",\"Facebook\",\"Facebook\",\"Facebook\",\"Facebook\",\"Facebook\",\"Facebook\",\"Facebook\",\"Facebook\",\"Facebook\",\"Facebook\",\"Facebook\",\"Facebook\",\"Facebook\",\"Facebook\",\"Facebook\",\"Facebook\",\"Facebook\",\"Facebook\",\"Facebook\",\"Facebook\",\"Facebook\",\"Facebook\",\"Facebook\",\"Facebook\",\"Facebook\",\"Facebook\",\"Facebook\",\"Facebook\",\"Facebook\",\"Facebook\",\"Facebook\",\"Facebook\",\"Facebook\",\"Facebook\",\"Facebook\",\"Facebook\",\"Facebook\",\"Facebook\",\"Facebook\",\"Facebook\",\"Facebook\",\"Facebook\",\"Facebook\",\"Facebook\",\"Facebook\",\"Facebook\",\"Facebook\",\"Facebook\",\"Facebook\",\"Facebook\",\"Facebook\",\"Facebook\",\"Facebook\",\"Facebook\",\"Facebook\",\"Facebook\",\"Facebook\",\"Facebook\",\"Facebook\",\"Facebook\",\"Facebook\",\"Facebook\",\"Facebook\",\"Facebook\",\"Facebook\",\"Facebook\",\"Facebook\",\"Facebook\",\"Facebook\",\"Facebook\",\"Facebook\",\"Facebook\",\"Facebook\",\"Facebook\",\"Facebook\",\"Facebook\",\"Facebook\",\"Facebook\",\"Facebook\",\"Facebook\",\"Facebook\",\"Facebook\",\"Facebook\",\"Facebook\",\"Facebook\",\"Facebook\",\"Facebook\",\"Facebook\",\"Facebook\",\"Facebook\",\"Facebook\",\"Facebook\",\"Facebook\",\"Facebook\",\"Facebook\",\"Facebook\",\"Facebook\",\"Facebook\",\"Facebook\",\"Facebook\",\"Facebook\",\"Facebook\",\"Facebook\",\"Facebook\",\"Facebook\",\"Facebook\",\"Facebook\",\"Facebook\",\"Facebook\",\"Facebook\",\"Facebook\",\"Facebook\",\"Facebook\",\"Facebook\",\"Facebook\",\"Facebook\",\"Facebook\",\"Facebook\",\"Facebook\",\"Facebook\",\"Facebook\",\"Facebook\",\"Facebook\",\"Facebook\",\"Facebook\",\"Facebook\",\"Facebook\",\"Facebook\",\"Facebook\",\"Facebook\",\"Facebook\",\"Facebook\",\"Facebook\",\"Facebook\",\"Facebook\",\"Facebook\",\"Facebook\",\"Facebook\",\"Facebook\",\"Facebook\",\"Facebook\",\"Facebook\",\"Facebook\",\"Facebook\",\"Facebook\",\"Facebook\",\"Facebook\",\"Facebook\",\"Facebook\",\"Facebook\",\"Facebook\",\"Facebook\",\"Facebook\",\"Facebook\",\"Facebook\",\"Facebook\",\"Facebook\",\"Facebook\",\"Facebook\",\"Facebook\",\"Facebook\",\"Facebook\",\"Facebook\",\"Facebook\",\"Facebook\",\"Facebook\",\"Facebook\",\"Facebook\",\"Facebook\",\"Facebook\",\"Facebook\",\"Facebook\",\"Facebook\",\"Facebook\",\"Facebook\",\"Facebook\",\"Facebook\",\"Facebook\",\"Facebook\",\"Facebook\",\"Facebook\",\"Facebook\",\"Facebook\",\"Facebook\",\"Facebook\",\"Facebook\",\"Facebook\",\"Facebook\",\"Facebook\",\"Facebook\",\"Facebook\",\"Facebook\",\"Facebook\",\"Facebook\",\"Facebook\",\"Facebook\",\"Facebook\",\"Facebook\",\"Facebook\",\"Facebook\",\"Facebook\",\"Facebook\",\"Facebook\",\"Facebook\",\"Facebook\",\"Facebook\",\"Facebook\",\"Facebook\",\"Facebook\",\"Facebook\",\"Facebook\",\"Facebook\",\"Facebook\",\"Facebook\",\"Facebook\",\"Facebook\",\"YouTube\",\"YouTube\",\"YouTube\",\"YouTube\",\"YouTube\",\"YouTube\",\"YouTube\",\"YouTube\",\"YouTube\",\"YouTube\",\"YouTube\",\"YouTube\",\"YouTube\",\"YouTube\",\"YouTube\",\"YouTube\",\"YouTube\",\"YouTube\",\"YouTube\",\"YouTube\",\"YouTube\",\"YouTube\",\"YouTube\",\"YouTube\",\"YouTube\",\"YouTube\",\"YouTube\",\"YouTube\",\"YouTube\",\"YouTube\",\"YouTube\",\"YouTube\",\"YouTube\",\"YouTube\",\"YouTube\",\"YouTube\",\"YouTube\",\"YouTube\",\"YouTube\",\"YouTube\",\"YouTube\",\"YouTube\",\"YouTube\",\"YouTube\",\"YouTube\",\"YouTube\",\"YouTube\",\"YouTube\",\"YouTube\",\"YouTube\",\"YouTube\",\"YouTube\",\"YouTube\",\"YouTube\",\"YouTube\",\"YouTube\",\"YouTube\",\"YouTube\",\"YouTube\",\"YouTube\",\"YouTube\",\"YouTube\",\"YouTube\",\"YouTube\",\"YouTube\",\"YouTube\",\"YouTube\",\"YouTube\",\"YouTube\",\"YouTube\",\"YouTube\",\"YouTube\",\"YouTube\",\"YouTube\",\"YouTube\",\"YouTube\",\"YouTube\",\"YouTube\",\"YouTube\",\"YouTube\",\"YouTube\",\"YouTube\",\"YouTube\",\"YouTube\",\"YouTube\",\"YouTube\",\"YouTube\",\"YouTube\",\"YouTube\",\"YouTube\",\"YouTube\",\"YouTube\",\"YouTube\",\"YouTube\",\"YouTube\",\"YouTube\",\"YouTube\",\"YouTube\",\"YouTube\",\"YouTube\",\"YouTube\",\"YouTube\",\"YouTube\",\"YouTube\",\"YouTube\",\"YouTube\",\"YouTube\",\"YouTube\",\"YouTube\",\"YouTube\",\"YouTube\",\"YouTube\",\"YouTube\",\"YouTube\",\"YouTube\",\"YouTube\",\"YouTube\",\"YouTube\",\"YouTube\",\"YouTube\",\"YouTube\",\"YouTube\",\"YouTube\",\"YouTube\",\"YouTube\",\"YouTube\",\"YouTube\",\"YouTube\",\"YouTube\",\"YouTube\",\"YouTube\",\"YouTube\",\"YouTube\",\"YouTube\",\"YouTube\",\"YouTube\",\"YouTube\",\"YouTube\",\"YouTube\",\"YouTube\",\"YouTube\",\"YouTube\",\"YouTube\",\"YouTube\",\"YouTube\",\"YouTube\",\"YouTube\",\"YouTube\",\"YouTube\",\"YouTube\",\"YouTube\",\"YouTube\",\"YouTube\",\"YouTube\",\"YouTube\",\"YouTube\",\"YouTube\",\"YouTube\",\"YouTube\",\"YouTube\",\"YouTube\",\"YouTube\",\"YouTube\",\"YouTube\",\"YouTube\",\"YouTube\",\"YouTube\",\"YouTube\",\"YouTube\",\"YouTube\",\"YouTube\",\"YouTube\",\"YouTube\",\"YouTube\",\"YouTube\",\"YouTube\",\"YouTube\",\"YouTube\",\"YouTube\",\"YouTube\",\"YouTube\",\"YouTube\",\"YouTube\",\"YouTube\",\"YouTube\",\"YouTube\",\"YouTube\",\"YouTube\",\"YouTube\",\"YouTube\",\"YouTube\",\"YouTube\",\"YouTube\",\"YouTube\",\"YouTube\",\"YouTube\",\"YouTube\",\"YouTube\",\"YouTube\",\"YouTube\",\"YouTube\",\"YouTube\",\"YouTube\",\"YouTube\",\"YouTube\",\"YouTube\",\"YouTube\",\"YouTube\",\"YouTube\",\"YouTube\",\"YouTube\",\"YouTube\",\"YouTube\",\"YouTube\",\"YouTube\",\"YouTube\",\"YouTube\",\"YouTube\",\"YouTube\",\"YouTube\",\"YouTube\",\"YouTube\",\"YouTube\",\"YouTube\",\"YouTube\",\"YouTube\",\"YouTube\",\"YouTube\",\"YouTube\",\"YouTube\",\"YouTube\",\"YouTube\"],\"x0\":\" \",\"xaxis\":\"x\",\"y\":[0.0,0.8333333333333334,8.0,22.583333333333332,7.0,1.2666666666666666,8.0,13.183333333333334,0.85,22.566666666666666,4.0,2.783333333333333,3.0,0.0,4.0,0.0,0.0,1.95,1.0166666666666666,0.0,1.05,3.0,0.31666666666666665,0.6333333333333333,1.2666666666666666,10.733333333333333,12.0,2.3333333333333335,15.583333333333334,6.0,14.0,0.38333333333333336,20.0,0.0,2.5,3.216666666666667,12.0,13.0,1.6666666666666665,6.016666666666667,0.8,0.0,6.866666666666667,3.75,0.0,1.2666666666666666,1.0,4.0,8.866666666666667,5.666666666666667,3.0,3.0,0.5833333333333334,2.8333333333333335,3.25,0.0,7.0,5.0,1.3333333333333333,14.0,6.0,5.083333333333333,2.5,0.0,0.0,6.0,11.15,0.0,0.0,6.5,0.26666666666666666,10.0,0.0,0.0,0.9166666666666666,12.533333333333333,2.0,2.0,0.0,1.0,4.0,1.0,0.3,5.6,2.1333333333333333,0.3,0.0,4.8,1.0166666666666666,2.216666666666667,1.6166666666666667,0.8166666666666667,1.5166666666666666,1.0,0.0,0.5833333333333334,5.416666666666667,0.0,9.166666666666666,0.0,4.0,2.0,8.3,3.0,10.5,15.05,8.0,5.0,0.0,4.0,10.0,0.0,8.133333333333333,2.35,8.616666666666667,5.416666666666667,6.75,0.0,1.0,0.0,0.0,0.0,7.0,0.4166666666666667,3.466666666666667,1.0,8.0,8.0,3.25,1.8333333333333335,5.25,14.0,16.366666666666667,0.9166666666666666,5.666666666666667,6.0,8.583333333333334,1.3166666666666667,9.55,5.0,0.3333333333333333,3.0,3.0,7.866666666666667,1.4666666666666668,5.0,1.8666666666666667,7.0,2.45,5.4,3.6,22.166666666666668,2.0,1.0,10.0,5.0,15.566666666666666,2.0,3.0,3.2,11.0,9.366666666666667,14.4,7.2,1.0,4.166666666666667,10.0,13.083333333333334,7.95,3.2333333333333334,4.0,10.0,1.0166666666666666,2.0,1.0,2.033333333333333,0.0,0.0,17.016666666666666,10.0,4.416666666666667,3.9166666666666665,0.0,4.0,0.0,15.4,14.666666666666666,1.8,16.133333333333333,0.5,21.0,1.1166666666666667,0.45,0.0,5.5,0.0,6.65,0.0,0.0,23.216666666666665,7.0,7.0,10.0,22.15,1.2,2.0,0.05,10.366666666666667,0.0,12.0,1.0,4.3,0.0,1.0,0.0,0.0,1.0,12.35,6.283333333333333,4.283333333333333,9.516666666666667,2.8,7.366666666666666,5.716666666666667,5.666666666666667,19.366666666666667,23.0,2.0,16.416666666666668,9.0,9.866666666666667,12.083333333333334,1.0,0.0,4.0,11.35,1.0666666666666667,1.0,12.0,0.7166666666666667,0.9166666666666666,10.833333333333334,0.0,4.2,2.0,0.16666666666666666,6.0,6.066666666666666,0.0,2.95,4.083333333333333,5.45,0.16666666666666666,3.0,4.0,9.05,0.85,9.133333333333333,23.0,1.0,4.65,2.0,1.0,1.0,20.0,10.5,0.3333333333333333,1.8166666666666667,6.0,2.0,6.2,2.85,1.6,4.0,8.083333333333334,4.25,21.616666666666667,2.9333333333333336,4.283333333333333,5.0,1.9666666666666668,2.75,6.0,0.0,4.066666666666666,4.216666666666667,7.5,5.0,10.0,4.0,4.75,0.5,5.0,3.5666666666666664,1.0,4.85,0.0,8.0,4.833333333333333,0.0,2.45,13.283333333333333,2.0833333333333335,5.0,3.2,3.0,0.6,4.016666666666667,2.9166666666666665,8.0,0.0,0.0,0.0,3.0,0.48333333333333334,2.183333333333333,2.6166666666666667,3.8833333333333333,5.933333333333334,6.583333333333333,1.2333333333333334,6.666666666666667,1.1666666666666667,0.8166666666666667,4.883333333333333,0.5,2.6333333333333333,2.066666666666667,4.966666666666667,0.016666666666666666,1.55,0.0,7.0,4.0,1.9333333333333333,0.0,15.0,5.333333333333333,2.0,1.0,2.0,6.0,20.0,1.6333333333333333,7.35,5.5,0.6166666666666667,0.3333333333333333,3.1166666666666667,15.0,2.25,1.0,1.0,1.0,14.0,2.15,1.5666666666666667,2.0,9.0,5.0,2.7666666666666666,2.0,4.866666666666667,7.0,0.06666666666666667,1.35,2.4,2.0,6.766666666666667,2.9166666666666665,2.1666666666666665,9.0,6.0,6.0,1.0,6.55,2.25,20.0,1.55,7.0,1.2166666666666668,1.8166666666666667,8.933333333333334,8.1,5.0,12.0,8.0,0.7333333333333333,4.9,0.5,2.0,2.0166666666666666,5.616666666666667,4.983333333333333,4.866666666666667,1.7,1.0,4.25,0.0,7.55,1.9666666666666668,3.1333333333333333,5.0,12.0,0.0,0.0,10.0,0.5,3.0,0.0,15.0,0.0,1.2,0.75,0.0,0.5,0.0,4.35,4.116666666666666,0.48333333333333334,2.5,1.0,18.0,4.283333333333333,8.05,0.5,1.0,6.55,2.3666666666666667,16.333333333333332,0.26666666666666666,10.0,2.0,2.0,20.0,0.0,1.4666666666666668,1.0,0.38333333333333336,5.166666666666667,0.0,5.0,0.0,0.16666666666666666,0.0,1.0,0.25,0.0,0.5,6.0,2.35,2.4166666666666665,1.8,4.583333333333333,1.2,1.1166666666666667,1.9,2.466666666666667,0.25,3.0,7.3,0.23333333333333334,13.716666666666667,1.1,1.0,0.0,0.0,1.95,0.0,14.0,5.0,4.35,0.45,3.45,0.0,3.75,1.0,10.0,1.0,7.216666666666667,1.0,1.95,6.3,23.833333333333332,2.0,12.0,1.0,13.716666666666667,0.18333333333333332,3.6833333333333336,10.0,0.0,0.25,0.0,1.0,2.6,0.0,7.0,0.75,2.1166666666666667,7.0,4.0,2.1666666666666665,5.8,4.816666666666666,4.0,1.3333333333333333,7.916666666666667,16.15,1.05,0.6666666666666666,10.0,0.7666666666666667,0.95,0.0,2.0,0.6833333333333333,1.5666666666666667,4.133333333333334,10.0,7.0,6.0,2.2666666666666666,10.0,4.0,2.6833333333333336,0.8333333333333334,0.21666666666666667,0.0,4.0,6.25,0.0,2.85,1.9,2.0,2.0,2.9,1.0,0.25,2.8666666666666667,1.3333333333333333,8.0,0.08333333333333333,0.0,0.0,1.0,0.6166666666666667,1.2666666666666666,0.55,0.2,0.0,1.8666666666666667,0.18333333333333332,2.533333333333333,1.2833333333333332,0.4666666666666667,1.4,0.05,0.5333333333333333,0.03333333333333333,3.9166666666666665,0.0,6.233333333333333,0.0,2.0,2.0,8.15,0.5,5.0,5.05,1.0,0.0,5.0,6.0,15.0,1.1166666666666667,5.016666666666667,6.466666666666667,2.1166666666666667,2.0,0.15,5.0,1.0,10.0,23.0,2.0,4.0,0.0,0.08333333333333333,1.0,0.0,5.0,0.21666666666666667,0.0,3.3333333333333335,1.0,0.9166666666666666,0.21666666666666667,0.016666666666666666,0.4,0.13333333333333333,0.5333333333333333,0.4,0.5,0.0,5.0,5.0,1.8333333333333335,0.6166666666666667,5.0,0.5333333333333333,5.0,0.5,1.6,3.6666666666666665,6.1,1.0,10.0,4.0,0.55,0.03333333333333333,0.5,1.5,0.26666666666666666,0.7,1.1833333333333333,1.9,0.6,1.0,4.333333333333333,12.0,0.31666666666666665,0.9666666666666667,0.13333333333333333,5.0,5.0,1.0166666666666666,2.0,2.9166666666666665,0.5,5.0,5.0,17.0,5.0,3.55,2.8333333333333335,0.0,3.0,0.0,2.5,1.0833333333333333,0.0,2.1666666666666665,1.0,10.0,0.95,5.616666666666667,0.03333333333333333,8.0,0.0,1.3333333333333333,2.3833333333333333,0.55,10.0,1.0,4.0,20.0,4.966666666666667,1.0166666666666666,0.0,0.13333333333333333,1.0,5.716666666666667,5.0,1.0,0.5,3.0,2.3666666666666667,1.75,1.0,5.0,5.0,0.016666666666666666,0.1,10.0,0.5666666666666667,0.25,0.0,2.0833333333333335,0.016666666666666666,8.366666666666667,0.0,3.0166666666666666,1.2833333333333332,2.75,5.083333333333333,2.0,1.0,8.0,2.6666666666666665,3.4333333333333336,3.0,2.0,6.283333333333333,0.5833333333333334,11.9,2.0,3.75,2.0,5.0,10.0,11.566666666666666,9.0,1.3,0.8166666666666667,8.183333333333334,0.0,0.0,3.8333333333333335,0.4166666666666667,2.35,0.48333333333333334,23.833333333333332,0.0,1.3833333333333333,1.0,8.0,1.3833333333333333,0.0,23.983333333333334,1.0,1.1333333333333333,1.0,4.583333333333333,1.25,0.31666666666666665,0.0,20.0,5.516666666666667,9.25,14.0,0.0,0.0,0.0,1.1666666666666667,0.18333333333333332,1.0,3.0,0.5166666666666667,0.0,1.1333333333333333,3.0,0.0,1.0,0.11666666666666667,2.0,1.0,0.0,0.5,3.5,10.0,2.0,2.3,23.0,0.23333333333333334,0.0,0.0,1.0,2.6666666666666665,10.0,2.0,1.5166666666666666,1.0,10.0,7.833333333333333,0.0,1.0,0.0,2.3166666666666664,0.0,0.08333333333333333,0.2,1.8333333333333335,6.283333333333333,0.4166666666666667,0.0,0.0,2.4333333333333336,0.0,0.5,0.3333333333333333,1.3333333333333333,3.7,0.08333333333333333,0.25,7.0,10.0,0.0,2.0,1.0,5.0,3.0,0.0,3.0,3.0,16.0,10.0,0.9833333333333333,0.2833333333333333,2.0,0.8833333333333333,3.5,0.6166666666666667,1.0,0.0,10.0,23.0,9.0,0.0,0.0,0.15,0.0,4.0,2.0,0.16666666666666666,0.5,0.25,6.0,0.21666666666666667,0.0,1.1833333333333333,0.5,0.5833333333333334,0.03333333333333333,0.08333333333333333,2.0,3.0,2.0,3.0,0.9,0.0,1.0,0.2833333333333333,7.0,0.0,0.0,0.0,3.7333333333333334,3.0,2.0,4.0,0.0,0.15,0.5,0.5,0.0,0.0,0.0,5.1,2.4166666666666665,1.0,4.333333333333333,0.0,0.0,3.0166666666666666,0.016666666666666666,7.0,3.0,2.033333333333333,3.0,1.0,1.2833333333333332,3.0,0.0,17.0,15.0,1.3666666666666667,4.116666666666666,2.5,10.0,0.0,0.1,0.5,5.0,0.5,1.0,5.0,20.516666666666666,20.1,0.0,0.0,3.2,0.13333333333333333,14.683333333333334,0.0,9.0,0.0,6.0,20.0,0.0,0.0,0.0,1.0833333333333333,0.08333333333333333,19.716666666666665,3.0,4.0,0.0,5.0,1.0,2.3333333333333335,3.0,5.0,0.0,23.4,0.0,1.75,1.4333333333333333,0.0,0.0,1.5,0.05,3.8333333333333335,0.0,0.0,0.25,1.7833333333333332,4.033333333333333],\"y0\":\" \",\"yaxis\":\"y\",\"type\":\"box\"}],                        {\"template\":{\"data\":{\"histogram2dcontour\":[{\"type\":\"histogram2dcontour\",\"colorbar\":{\"outlinewidth\":0,\"ticks\":\"\"},\"colorscale\":[[0.0,\"#0d0887\"],[0.1111111111111111,\"#46039f\"],[0.2222222222222222,\"#7201a8\"],[0.3333333333333333,\"#9c179e\"],[0.4444444444444444,\"#bd3786\"],[0.5555555555555556,\"#d8576b\"],[0.6666666666666666,\"#ed7953\"],[0.7777777777777778,\"#fb9f3a\"],[0.8888888888888888,\"#fdca26\"],[1.0,\"#f0f921\"]]}],\"choropleth\":[{\"type\":\"choropleth\",\"colorbar\":{\"outlinewidth\":0,\"ticks\":\"\"}}],\"histogram2d\":[{\"type\":\"histogram2d\",\"colorbar\":{\"outlinewidth\":0,\"ticks\":\"\"},\"colorscale\":[[0.0,\"#0d0887\"],[0.1111111111111111,\"#46039f\"],[0.2222222222222222,\"#7201a8\"],[0.3333333333333333,\"#9c179e\"],[0.4444444444444444,\"#bd3786\"],[0.5555555555555556,\"#d8576b\"],[0.6666666666666666,\"#ed7953\"],[0.7777777777777778,\"#fb9f3a\"],[0.8888888888888888,\"#fdca26\"],[1.0,\"#f0f921\"]]}],\"heatmap\":[{\"type\":\"heatmap\",\"colorbar\":{\"outlinewidth\":0,\"ticks\":\"\"},\"colorscale\":[[0.0,\"#0d0887\"],[0.1111111111111111,\"#46039f\"],[0.2222222222222222,\"#7201a8\"],[0.3333333333333333,\"#9c179e\"],[0.4444444444444444,\"#bd3786\"],[0.5555555555555556,\"#d8576b\"],[0.6666666666666666,\"#ed7953\"],[0.7777777777777778,\"#fb9f3a\"],[0.8888888888888888,\"#fdca26\"],[1.0,\"#f0f921\"]]}],\"heatmapgl\":[{\"type\":\"heatmapgl\",\"colorbar\":{\"outlinewidth\":0,\"ticks\":\"\"},\"colorscale\":[[0.0,\"#0d0887\"],[0.1111111111111111,\"#46039f\"],[0.2222222222222222,\"#7201a8\"],[0.3333333333333333,\"#9c179e\"],[0.4444444444444444,\"#bd3786\"],[0.5555555555555556,\"#d8576b\"],[0.6666666666666666,\"#ed7953\"],[0.7777777777777778,\"#fb9f3a\"],[0.8888888888888888,\"#fdca26\"],[1.0,\"#f0f921\"]]}],\"contourcarpet\":[{\"type\":\"contourcarpet\",\"colorbar\":{\"outlinewidth\":0,\"ticks\":\"\"}}],\"contour\":[{\"type\":\"contour\",\"colorbar\":{\"outlinewidth\":0,\"ticks\":\"\"},\"colorscale\":[[0.0,\"#0d0887\"],[0.1111111111111111,\"#46039f\"],[0.2222222222222222,\"#7201a8\"],[0.3333333333333333,\"#9c179e\"],[0.4444444444444444,\"#bd3786\"],[0.5555555555555556,\"#d8576b\"],[0.6666666666666666,\"#ed7953\"],[0.7777777777777778,\"#fb9f3a\"],[0.8888888888888888,\"#fdca26\"],[1.0,\"#f0f921\"]]}],\"surface\":[{\"type\":\"surface\",\"colorbar\":{\"outlinewidth\":0,\"ticks\":\"\"},\"colorscale\":[[0.0,\"#0d0887\"],[0.1111111111111111,\"#46039f\"],[0.2222222222222222,\"#7201a8\"],[0.3333333333333333,\"#9c179e\"],[0.4444444444444444,\"#bd3786\"],[0.5555555555555556,\"#d8576b\"],[0.6666666666666666,\"#ed7953\"],[0.7777777777777778,\"#fb9f3a\"],[0.8888888888888888,\"#fdca26\"],[1.0,\"#f0f921\"]]}],\"mesh3d\":[{\"type\":\"mesh3d\",\"colorbar\":{\"outlinewidth\":0,\"ticks\":\"\"}}],\"scatter\":[{\"fillpattern\":{\"fillmode\":\"overlay\",\"size\":10,\"solidity\":0.2},\"type\":\"scatter\"}],\"parcoords\":[{\"type\":\"parcoords\",\"line\":{\"colorbar\":{\"outlinewidth\":0,\"ticks\":\"\"}}}],\"scatterpolargl\":[{\"type\":\"scatterpolargl\",\"marker\":{\"colorbar\":{\"outlinewidth\":0,\"ticks\":\"\"}}}],\"bar\":[{\"error_x\":{\"color\":\"#2a3f5f\"},\"error_y\":{\"color\":\"#2a3f5f\"},\"marker\":{\"line\":{\"color\":\"#E5ECF6\",\"width\":0.5},\"pattern\":{\"fillmode\":\"overlay\",\"size\":10,\"solidity\":0.2}},\"type\":\"bar\"}],\"scattergeo\":[{\"type\":\"scattergeo\",\"marker\":{\"colorbar\":{\"outlinewidth\":0,\"ticks\":\"\"}}}],\"scatterpolar\":[{\"type\":\"scatterpolar\",\"marker\":{\"colorbar\":{\"outlinewidth\":0,\"ticks\":\"\"}}}],\"histogram\":[{\"marker\":{\"pattern\":{\"fillmode\":\"overlay\",\"size\":10,\"solidity\":0.2}},\"type\":\"histogram\"}],\"scattergl\":[{\"type\":\"scattergl\",\"marker\":{\"colorbar\":{\"outlinewidth\":0,\"ticks\":\"\"}}}],\"scatter3d\":[{\"type\":\"scatter3d\",\"line\":{\"colorbar\":{\"outlinewidth\":0,\"ticks\":\"\"}},\"marker\":{\"colorbar\":{\"outlinewidth\":0,\"ticks\":\"\"}}}],\"scattermapbox\":[{\"type\":\"scattermapbox\",\"marker\":{\"colorbar\":{\"outlinewidth\":0,\"ticks\":\"\"}}}],\"scatterternary\":[{\"type\":\"scatterternary\",\"marker\":{\"colorbar\":{\"outlinewidth\":0,\"ticks\":\"\"}}}],\"scattercarpet\":[{\"type\":\"scattercarpet\",\"marker\":{\"colorbar\":{\"outlinewidth\":0,\"ticks\":\"\"}}}],\"carpet\":[{\"aaxis\":{\"endlinecolor\":\"#2a3f5f\",\"gridcolor\":\"white\",\"linecolor\":\"white\",\"minorgridcolor\":\"white\",\"startlinecolor\":\"#2a3f5f\"},\"baxis\":{\"endlinecolor\":\"#2a3f5f\",\"gridcolor\":\"white\",\"linecolor\":\"white\",\"minorgridcolor\":\"white\",\"startlinecolor\":\"#2a3f5f\"},\"type\":\"carpet\"}],\"table\":[{\"cells\":{\"fill\":{\"color\":\"#EBF0F8\"},\"line\":{\"color\":\"white\"}},\"header\":{\"fill\":{\"color\":\"#C8D4E3\"},\"line\":{\"color\":\"white\"}},\"type\":\"table\"}],\"barpolar\":[{\"marker\":{\"line\":{\"color\":\"#E5ECF6\",\"width\":0.5},\"pattern\":{\"fillmode\":\"overlay\",\"size\":10,\"solidity\":0.2}},\"type\":\"barpolar\"}],\"pie\":[{\"automargin\":true,\"type\":\"pie\"}]},\"layout\":{\"autotypenumbers\":\"strict\",\"colorway\":[\"#636efa\",\"#EF553B\",\"#00cc96\",\"#ab63fa\",\"#FFA15A\",\"#19d3f3\",\"#FF6692\",\"#B6E880\",\"#FF97FF\",\"#FECB52\"],\"font\":{\"color\":\"#2a3f5f\"},\"hovermode\":\"closest\",\"hoverlabel\":{\"align\":\"left\"},\"paper_bgcolor\":\"white\",\"plot_bgcolor\":\"#E5ECF6\",\"polar\":{\"bgcolor\":\"#E5ECF6\",\"angularaxis\":{\"gridcolor\":\"white\",\"linecolor\":\"white\",\"ticks\":\"\"},\"radialaxis\":{\"gridcolor\":\"white\",\"linecolor\":\"white\",\"ticks\":\"\"}},\"ternary\":{\"bgcolor\":\"#E5ECF6\",\"aaxis\":{\"gridcolor\":\"white\",\"linecolor\":\"white\",\"ticks\":\"\"},\"baxis\":{\"gridcolor\":\"white\",\"linecolor\":\"white\",\"ticks\":\"\"},\"caxis\":{\"gridcolor\":\"white\",\"linecolor\":\"white\",\"ticks\":\"\"}},\"coloraxis\":{\"colorbar\":{\"outlinewidth\":0,\"ticks\":\"\"}},\"colorscale\":{\"sequential\":[[0.0,\"#0d0887\"],[0.1111111111111111,\"#46039f\"],[0.2222222222222222,\"#7201a8\"],[0.3333333333333333,\"#9c179e\"],[0.4444444444444444,\"#bd3786\"],[0.5555555555555556,\"#d8576b\"],[0.6666666666666666,\"#ed7953\"],[0.7777777777777778,\"#fb9f3a\"],[0.8888888888888888,\"#fdca26\"],[1.0,\"#f0f921\"]],\"sequentialminus\":[[0.0,\"#0d0887\"],[0.1111111111111111,\"#46039f\"],[0.2222222222222222,\"#7201a8\"],[0.3333333333333333,\"#9c179e\"],[0.4444444444444444,\"#bd3786\"],[0.5555555555555556,\"#d8576b\"],[0.6666666666666666,\"#ed7953\"],[0.7777777777777778,\"#fb9f3a\"],[0.8888888888888888,\"#fdca26\"],[1.0,\"#f0f921\"]],\"diverging\":[[0,\"#8e0152\"],[0.1,\"#c51b7d\"],[0.2,\"#de77ae\"],[0.3,\"#f1b6da\"],[0.4,\"#fde0ef\"],[0.5,\"#f7f7f7\"],[0.6,\"#e6f5d0\"],[0.7,\"#b8e186\"],[0.8,\"#7fbc41\"],[0.9,\"#4d9221\"],[1,\"#276419\"]]},\"xaxis\":{\"gridcolor\":\"white\",\"linecolor\":\"white\",\"ticks\":\"\",\"title\":{\"standoff\":15},\"zerolinecolor\":\"white\",\"automargin\":true,\"zerolinewidth\":2},\"yaxis\":{\"gridcolor\":\"white\",\"linecolor\":\"white\",\"ticks\":\"\",\"title\":{\"standoff\":15},\"zerolinecolor\":\"white\",\"automargin\":true,\"zerolinewidth\":2},\"scene\":{\"xaxis\":{\"backgroundcolor\":\"#E5ECF6\",\"gridcolor\":\"white\",\"linecolor\":\"white\",\"showbackground\":true,\"ticks\":\"\",\"zerolinecolor\":\"white\",\"gridwidth\":2},\"yaxis\":{\"backgroundcolor\":\"#E5ECF6\",\"gridcolor\":\"white\",\"linecolor\":\"white\",\"showbackground\":true,\"ticks\":\"\",\"zerolinecolor\":\"white\",\"gridwidth\":2},\"zaxis\":{\"backgroundcolor\":\"#E5ECF6\",\"gridcolor\":\"white\",\"linecolor\":\"white\",\"showbackground\":true,\"ticks\":\"\",\"zerolinecolor\":\"white\",\"gridwidth\":2}},\"shapedefaults\":{\"line\":{\"color\":\"#2a3f5f\"}},\"annotationdefaults\":{\"arrowcolor\":\"#2a3f5f\",\"arrowhead\":0,\"arrowwidth\":1},\"geo\":{\"bgcolor\":\"white\",\"landcolor\":\"#E5ECF6\",\"subunitcolor\":\"white\",\"showland\":true,\"showlakes\":true,\"lakecolor\":\"white\"},\"title\":{\"x\":0.05},\"mapbox\":{\"style\":\"light\"}}},\"xaxis\":{\"anchor\":\"y\",\"domain\":[0.0,1.0],\"title\":{\"text\":\"app\"}},\"yaxis\":{\"anchor\":\"x\",\"domain\":[0.0,1.0],\"title\":{\"text\":\"time\"}},\"legend\":{\"tracegroupgap\":0},\"margin\":{\"t\":60},\"boxmode\":\"group\"},                        {\"responsive\": true}                    ).then(function(){\n",
              "                            \n",
              "var gd = document.getElementById('f18ac450-3455-45cf-8dec-a3928ba27151');\n",
              "var x = new MutationObserver(function (mutations, observer) {{\n",
              "        var display = window.getComputedStyle(gd).display;\n",
              "        if (!display || display === 'none') {{\n",
              "            console.log([gd, 'removed!']);\n",
              "            Plotly.purge(gd);\n",
              "            observer.disconnect();\n",
              "        }}\n",
              "}});\n",
              "\n",
              "// Listen for the removal of the full notebook cells\n",
              "var notebookContainer = gd.closest('#notebook-container');\n",
              "if (notebookContainer) {{\n",
              "    x.observe(notebookContainer, {childList: true});\n",
              "}}\n",
              "\n",
              "// Listen for the clearing of the current output cell\n",
              "var outputEl = gd.closest('.output');\n",
              "if (outputEl) {{\n",
              "    x.observe(outputEl, {childList: true});\n",
              "}}\n",
              "\n",
              "                        })                };                            </script>        </div>\n",
              "</body>\n",
              "</html>"
            ]
          },
          "metadata": {}
        }
      ]
    },
    {
      "cell_type": "code",
      "source": [],
      "metadata": {
        "id": "L4SF_5VAODle"
      },
      "execution_count": null,
      "outputs": []
    }
  ]
}