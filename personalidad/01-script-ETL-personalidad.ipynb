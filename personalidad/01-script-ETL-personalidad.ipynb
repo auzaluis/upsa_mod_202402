{
  "nbformat": 4,
  "nbformat_minor": 0,
  "metadata": {
    "colab": {
      "provenance": [],
      "toc_visible": true,
      "mount_file_id": "1OhqJi_YPBCcLo5j29hgEk82mjwkDcK5a",
      "authorship_tag": "ABX9TyPp41GuikqGXP5FDPNCtd4J",
      "include_colab_link": true
    },
    "kernelspec": {
      "name": "python3",
      "display_name": "Python 3"
    },
    "language_info": {
      "name": "python"
    }
  },
  "cells": [
    {
      "cell_type": "markdown",
      "metadata": {
        "id": "view-in-github",
        "colab_type": "text"
      },
      "source": [
        "<a href=\"https://colab.research.google.com/github/auzaluis/upsa_mod_202402/blob/main/personalidad/01-script-ETL-personalidad.ipynb\" target=\"_parent\"><img src=\"https://colab.research.google.com/assets/colab-badge.svg\" alt=\"Open In Colab\"/></a>"
      ]
    },
    {
      "cell_type": "markdown",
      "source": [
        "### **Tema 01: Carga de datos**"
      ],
      "metadata": {
        "id": "fhOToKlWAX-g"
      }
    },
    {
      "cell_type": "markdown",
      "source": [
        "### **Importando base de datos**"
      ],
      "metadata": {
        "id": "JCKp5xlmgNrG"
      }
    },
    {
      "cell_type": "code",
      "source": [
        "# Google Auth\n",
        "from google.colab import auth\n",
        "auth.authenticate_user()"
      ],
      "metadata": {
        "id": "SILnGnRhAnre"
      },
      "execution_count": null,
      "outputs": []
    },
    {
      "cell_type": "code",
      "source": [
        "# API Client\n",
        "from google.auth import default\n",
        "creds, _ = default()"
      ],
      "metadata": {
        "id": "QXfzjR_VgmST"
      },
      "execution_count": null,
      "outputs": []
    },
    {
      "cell_type": "code",
      "source": [
        "# gspread authorization\n",
        "import gspread\n",
        "gc = gspread.authorize(creds)"
      ],
      "metadata": {
        "id": "RPXMkJsIhXlY"
      },
      "execution_count": null,
      "outputs": []
    },
    {
      "cell_type": "code",
      "source": [
        "# Accediendo al Google Sheet\n",
        "url_personalidad = \"https://docs.google.com/spreadsheets/d/1IQ_RxxTSmBKHTExlxboIRNlMov_F6RyqdcOPrflCv_w/edit?usp=sharing\"\n",
        "gsheets = gc.open_by_url(url_personalidad)\n",
        "sheets = gsheets.worksheet(\"Respuestas de formulario 1\").get_all_values()"
      ],
      "metadata": {
        "id": "ttbYU0aAhZZH"
      },
      "execution_count": null,
      "outputs": []
    },
    {
      "cell_type": "code",
      "source": [
        "type(sheets)"
      ],
      "metadata": {
        "id": "o2LqAVp2kmQW"
      },
      "execution_count": null,
      "outputs": []
    },
    {
      "cell_type": "code",
      "source": [
        "# Convirtiendo la lista en df\n",
        "import pandas as pd\n",
        "df = pd.DataFrame(sheets[1:], columns=sheets[0])"
      ],
      "metadata": {
        "id": "jr1WfohlltXm"
      },
      "execution_count": null,
      "outputs": []
    },
    {
      "cell_type": "markdown",
      "source": [
        "### **Inspección data frame**"
      ],
      "metadata": {
        "id": "psb8qqcapUFs"
      }
    },
    {
      "cell_type": "code",
      "source": [
        "type(df)"
      ],
      "metadata": {
        "id": "geaOJ0rVlx_O"
      },
      "execution_count": null,
      "outputs": []
    },
    {
      "cell_type": "code",
      "source": [
        "# Ver cantidad de filas y columnas\n",
        "df.shape"
      ],
      "metadata": {
        "id": "Aw2MbZEQmJG1"
      },
      "execution_count": null,
      "outputs": []
    },
    {
      "cell_type": "code",
      "source": [
        "# Ver primeras filas\n",
        "df.head()"
      ],
      "metadata": {
        "id": "prCBIZJlptLi"
      },
      "execution_count": null,
      "outputs": []
    },
    {
      "cell_type": "code",
      "source": [
        "# Ver info general y nombre de columas\n",
        "df.info()"
      ],
      "metadata": {
        "id": "6Gb8u5Zap6AC"
      },
      "execution_count": null,
      "outputs": []
    },
    {
      "cell_type": "code",
      "source": [
        "# Tipo de datos\n",
        "df['Sexo'].dtype"
      ],
      "metadata": {
        "id": "vtr-yLtWqFth"
      },
      "execution_count": null,
      "outputs": []
    },
    {
      "cell_type": "code",
      "source": [
        "# Número de filas\n",
        "len(df)"
      ],
      "metadata": {
        "id": "0xOIjtbiqbUQ"
      },
      "execution_count": null,
      "outputs": []
    },
    {
      "cell_type": "code",
      "source": [
        "# Número de columnas\n",
        "len(df.columns)"
      ],
      "metadata": {
        "id": "6RZU4FP0qlAo"
      },
      "execution_count": null,
      "outputs": []
    },
    {
      "cell_type": "markdown",
      "source": [
        "### **Tema 02: Transformación de datos**"
      ],
      "metadata": {
        "id": "ooKRgMU-joiv"
      }
    },
    {
      "cell_type": "markdown",
      "source": [
        "### **Valores perdidos**"
      ],
      "metadata": {
        "id": "4sgyb419j0Cj"
      }
    },
    {
      "cell_type": "markdown",
      "source": [
        "#### **Identificación de los NAs**"
      ],
      "metadata": {
        "id": "nzTJKOVmj7sY"
      }
    },
    {
      "cell_type": "code",
      "source": [
        "# Los NAs están strings vacíos\n",
        "import numpy as np\n",
        "df.replace(\"\", np.nan, inplace=True)"
      ],
      "metadata": {
        "id": "LgdRhBA_krad"
      },
      "execution_count": null,
      "outputs": []
    },
    {
      "cell_type": "code",
      "source": [
        "df['Escribe tu edad exacta'].isna().value_counts()"
      ],
      "metadata": {
        "id": "sA58q47SlOa2"
      },
      "execution_count": null,
      "outputs": []
    },
    {
      "cell_type": "markdown",
      "source": [
        "#### **Tratando de los NAs**"
      ],
      "metadata": {
        "id": "Q6X8_1gGmRtt"
      }
    },
    {
      "cell_type": "code",
      "source": [
        "df[\"Escribe tu edad exacta\"].dtype"
      ],
      "metadata": {
        "id": "dkBlave0lb06"
      },
      "execution_count": null,
      "outputs": []
    },
    {
      "cell_type": "code",
      "source": [
        "df[\"Escribe tu edad exacta\"] = pd.to_numeric(df[\"Escribe tu edad exacta\"], errors=\"coerce\")"
      ],
      "metadata": {
        "id": "xKDMyRM-mXsV"
      },
      "execution_count": null,
      "outputs": []
    },
    {
      "cell_type": "code",
      "source": [
        "df[\"Escribe tu edad exacta\"].dtype"
      ],
      "metadata": {
        "id": "-4Sgq6Xumlb8"
      },
      "execution_count": null,
      "outputs": []
    },
    {
      "cell_type": "code",
      "source": [
        "df[\"Escribe tu edad exacta\"].mean()"
      ],
      "metadata": {
        "id": "xrKMl0Kcm6x1"
      },
      "execution_count": null,
      "outputs": []
    },
    {
      "cell_type": "code",
      "source": [
        "edad_promedio = df[\"Escribe tu edad exacta\"].mean()"
      ],
      "metadata": {
        "id": "MTblWUy8nlJE"
      },
      "execution_count": null,
      "outputs": []
    },
    {
      "cell_type": "markdown",
      "source": [
        "##### **Reemplazo por la media**"
      ],
      "metadata": {
        "id": "AMh7oy5An7WD"
      }
    },
    {
      "cell_type": "code",
      "source": [
        "# Creando df2\n",
        "df2 = df.copy()"
      ],
      "metadata": {
        "id": "rTUs5cYQnrK8"
      },
      "execution_count": null,
      "outputs": []
    },
    {
      "cell_type": "code",
      "source": [
        "# Reemplazo por la media\n",
        "df2[\"edad2\"] = df2[\"Escribe tu edad exacta\"].fillna(edad_promedio)"
      ],
      "metadata": {
        "id": "_gnufH1JoWv8"
      },
      "execution_count": null,
      "outputs": []
    },
    {
      "cell_type": "code",
      "source": [
        "df2[[\"Escribe tu edad exacta\", \"edad2\"]]"
      ],
      "metadata": {
        "id": "UlimygA5osD0"
      },
      "execution_count": null,
      "outputs": []
    },
    {
      "cell_type": "markdown",
      "source": [
        "**Reubicando edad2**"
      ],
      "metadata": {
        "id": "9SQ7GdKfqj16"
      }
    },
    {
      "cell_type": "code",
      "source": [
        "# Crear una lista con los nombres de las columnas\n",
        "lista_columnas = list(df2.columns)"
      ],
      "metadata": {
        "id": "rAGzS_p2pDIc"
      },
      "execution_count": null,
      "outputs": []
    },
    {
      "cell_type": "code",
      "source": [
        "# Quitando temporalmente edad2 de la lista\n",
        "lista_columnas.remove(\"edad2\")"
      ],
      "metadata": {
        "id": "WrC-dqzIq5Yp"
      },
      "execution_count": null,
      "outputs": []
    },
    {
      "cell_type": "code",
      "source": [
        "# Obteniendo el índice (posición) de la columna \"after\"\n",
        "lista_columnas.index(\"Escribe tu edad exacta\")"
      ],
      "metadata": {
        "id": "2NWTBDS0q6dh"
      },
      "execution_count": null,
      "outputs": []
    },
    {
      "cell_type": "code",
      "source": [
        "# Insertando \"edad2\" después de \"Escribe tu edad exacta\"\n",
        "lista_columnas.insert(lista_columnas.index(\"Escribe tu edad exacta\") + 1, \"edad2\")"
      ],
      "metadata": {
        "id": "VUgsKv0KrXvO"
      },
      "execution_count": null,
      "outputs": []
    },
    {
      "cell_type": "code",
      "source": [
        "# Reordenando y guardando en df2\n",
        "df2 = df2[lista_columnas]"
      ],
      "metadata": {
        "id": "gn6mc31Sr1Ia"
      },
      "execution_count": null,
      "outputs": []
    },
    {
      "cell_type": "code",
      "source": [
        "df2.head()"
      ],
      "metadata": {
        "id": "6BVbPiMUsWX9"
      },
      "execution_count": null,
      "outputs": []
    },
    {
      "cell_type": "markdown",
      "source": [
        "**Creando relocate() en python**"
      ],
      "metadata": {
        "id": "vt8dyqrwtP_n"
      }
    },
    {
      "cell_type": "code",
      "source": [
        "def relocate(df, columna, after):\n",
        "  lista_columnas = list(df.columns)\n",
        "  lista_columnas.remove(columna)\n",
        "  lista_columnas.insert(lista_columnas.index(after) + 1, columna)\n",
        "  return df[lista_columnas]"
      ],
      "metadata": {
        "id": "kHUPdf-Gs_mU"
      },
      "execution_count": null,
      "outputs": []
    },
    {
      "cell_type": "code",
      "source": [
        "relocate(\n",
        "    df = df2,\n",
        "    columna = \"edad2\",\n",
        "    after = \"Escribe tu edad exacta\"\n",
        ")"
      ],
      "metadata": {
        "id": "jE8sah5Ju2lD"
      },
      "execution_count": null,
      "outputs": []
    },
    {
      "cell_type": "markdown",
      "source": [
        "##### **Eliminar la fila completa**"
      ],
      "metadata": {
        "id": "bNrCWrSLw6Np"
      }
    },
    {
      "cell_type": "code",
      "source": [
        "df2.shape"
      ],
      "metadata": {
        "id": "V187KIVhu9R3"
      },
      "execution_count": null,
      "outputs": []
    },
    {
      "cell_type": "code",
      "source": [
        "df2 = df2.dropna()"
      ],
      "metadata": {
        "id": "qrlsaqqkw-TB"
      },
      "execution_count": null,
      "outputs": []
    },
    {
      "cell_type": "code",
      "source": [
        "df2.shape"
      ],
      "metadata": {
        "id": "EwnL6LGLxGch"
      },
      "execution_count": null,
      "outputs": []
    },
    {
      "cell_type": "markdown",
      "source": [
        "### **Estandarización de variables**"
      ],
      "metadata": {
        "id": "68nGU739408K"
      }
    },
    {
      "cell_type": "markdown",
      "source": [
        "#### **Normalización**"
      ],
      "metadata": {
        "id": "QRqm6HVh47xK"
      }
    },
    {
      "cell_type": "code",
      "source": [
        "from sklearn.preprocessing import StandardScaler"
      ],
      "metadata": {
        "id": "-TnWB_S2xHsy"
      },
      "execution_count": null,
      "outputs": []
    },
    {
      "cell_type": "code",
      "source": [
        "# instanciando StandardScaler()\n",
        "normalizador = StandardScaler()"
      ],
      "metadata": {
        "id": "U9w3-oiN5MgA"
      },
      "execution_count": null,
      "outputs": []
    },
    {
      "cell_type": "code",
      "source": [
        "# normalizando\n",
        "normalizador.fit_transform(df2[[\"edad2\"]])"
      ],
      "metadata": {
        "id": "AhSmX2ue5Wl2"
      },
      "execution_count": null,
      "outputs": []
    },
    {
      "cell_type": "code",
      "source": [
        "# creando df3\n",
        "df3 = df2.copy()"
      ],
      "metadata": {
        "id": "AievnGAd5e_D"
      },
      "execution_count": null,
      "outputs": []
    },
    {
      "cell_type": "code",
      "source": [
        "df3[\"edadZ\"] = normalizador.fit_transform(df3[[\"edad2\"]])"
      ],
      "metadata": {
        "id": "4x4ZM6mk7uDN"
      },
      "execution_count": null,
      "outputs": []
    },
    {
      "cell_type": "code",
      "source": [
        "# reubicando edadZ despues de edad2\n",
        "df3 = relocate(\n",
        "    df = df3,\n",
        "    columna = \"edadZ\",\n",
        "    after = \"edad2\"\n",
        ")"
      ],
      "metadata": {
        "id": "7rI4kdEn70xT"
      },
      "execution_count": null,
      "outputs": []
    },
    {
      "cell_type": "code",
      "source": [
        "df3[[\"edad2\", \"edadZ\"]]"
      ],
      "metadata": {
        "id": "IKCyxOts7_j6"
      },
      "execution_count": null,
      "outputs": []
    },
    {
      "cell_type": "markdown",
      "source": [
        "#### **Rango**"
      ],
      "metadata": {
        "id": "amaPALdA8QGk"
      }
    },
    {
      "cell_type": "code",
      "source": [
        "from sklearn.preprocessing import MinMaxScaler"
      ],
      "metadata": {
        "id": "VtB7D7IL8A_y"
      },
      "execution_count": null,
      "outputs": []
    },
    {
      "cell_type": "code",
      "source": [
        "# instanciando MinMaxScaler()\n",
        "rango = MinMaxScaler()"
      ],
      "metadata": {
        "id": "jTjQxel7-Xyd"
      },
      "execution_count": null,
      "outputs": []
    },
    {
      "cell_type": "code",
      "source": [
        "# convirtiendo a rango\n",
        "df3[\"edadRango\"] = rango.fit_transform(df3[[\"edad2\"]])"
      ],
      "metadata": {
        "id": "SrtIa_R0-g6N"
      },
      "execution_count": null,
      "outputs": []
    },
    {
      "cell_type": "code",
      "source": [
        "df3 = relocate(\n",
        "    df = df3,\n",
        "    columna = \"edadRango\",\n",
        "    after = \"edadZ\"\n",
        ")"
      ],
      "metadata": {
        "id": "MNlgfN_A-zeJ"
      },
      "execution_count": null,
      "outputs": []
    },
    {
      "cell_type": "code",
      "source": [
        "df3[[\"edad2\", \"edadRango\"]]"
      ],
      "metadata": {
        "id": "H7evVzdx-2bh"
      },
      "execution_count": null,
      "outputs": []
    },
    {
      "cell_type": "markdown",
      "source": [
        "### **Agrupaciones**"
      ],
      "metadata": {
        "id": "TsMyzeVDx-eD"
      }
    },
    {
      "cell_type": "markdown",
      "source": [
        "#### **Numéricas**"
      ],
      "metadata": {
        "id": "nUrbb8xjyE8K"
      }
    },
    {
      "cell_type": "code",
      "source": [
        "cortes = [-float('inf'), 18, 21, float('inf')]\n",
        "etiquetas = [\"18 o menos\", \"19 a 21\", \"Más de 21\"]"
      ],
      "metadata": {
        "id": "xrv1tVdO-4vR"
      },
      "execution_count": null,
      "outputs": []
    },
    {
      "cell_type": "code",
      "source": [
        "df3['edadGR'] = pd.cut(\n",
        "    x = df3['edad2'],\n",
        "    bins = cortes,\n",
        "    labels = etiquetas\n",
        ")"
      ],
      "metadata": {
        "id": "lroNwqeqzFQz"
      },
      "execution_count": null,
      "outputs": []
    },
    {
      "cell_type": "code",
      "source": [
        "df3 = relocate(\n",
        "    df = df3,\n",
        "    columna = \"edadGR\",\n",
        "    after = \"edad2\"\n",
        ")"
      ],
      "metadata": {
        "id": "Y1PEh9NizqgS"
      },
      "execution_count": null,
      "outputs": []
    },
    {
      "cell_type": "code",
      "source": [
        "# frecuencias de edadGR\n",
        "df3['edadGR'].value_counts()"
      ],
      "metadata": {
        "id": "jOJTws5Cz5Y5"
      },
      "execution_count": null,
      "outputs": []
    },
    {
      "cell_type": "markdown",
      "source": [
        "#### **Categóricas**"
      ],
      "metadata": {
        "id": "-QbCcpZz1ZwK"
      }
    },
    {
      "cell_type": "code",
      "source": [
        "# Índices\n",
        "df3.info()"
      ],
      "metadata": {
        "id": "zQdBpoVG1CO0"
      },
      "execution_count": null,
      "outputs": []
    },
    {
      "cell_type": "code",
      "source": [
        "# Valores únicos\n",
        "pd.unique(df3.iloc[:,8])"
      ],
      "metadata": {
        "id": "wONH2RKt2QAH"
      },
      "execution_count": null,
      "outputs": []
    },
    {
      "cell_type": "code",
      "source": [
        "# Frecuencias\n",
        "df3.iloc[:,8].value_counts()"
      ],
      "metadata": {
        "id": "s1n3n-fb2iMV"
      },
      "execution_count": null,
      "outputs": []
    },
    {
      "cell_type": "code",
      "source": [
        "df3.iloc[:,8].isin(['Totalmente verdadero', 'Un poco verdadero'])"
      ],
      "metadata": {
        "id": "8oM7WQlS2xNE"
      },
      "execution_count": null,
      "outputs": []
    },
    {
      "cell_type": "markdown",
      "source": [
        "Dummitización"
      ],
      "metadata": {
        "id": "2JtB8LEJ0ydD"
      }
    },
    {
      "cell_type": "code",
      "source": [
        "# Función condicional normal\n",
        "def top2box(x):\n",
        "  if x == \"Un poco verdadero\" or x == \"Totalmente verdadero\":\n",
        "    return 1\n",
        "  else:\n",
        "    return 0"
      ],
      "metadata": {
        "id": "RBA4CgGK3H1s"
      },
      "execution_count": null,
      "outputs": []
    },
    {
      "cell_type": "code",
      "source": [
        "# aplicando la función\n",
        "df3.iloc[:,8].apply(top2box).value_counts()"
      ],
      "metadata": {
        "id": "nCppDpxv1iPL"
      },
      "execution_count": null,
      "outputs": []
    },
    {
      "cell_type": "code",
      "source": [
        "# función lambda\n",
        "df3.iloc[:,8].apply(lambda x: 1 if x == \"Un poco verdadero\" or x == \"Totalmente verdadero\" else 0)"
      ],
      "metadata": {
        "id": "Et235t1U1tPO"
      },
      "execution_count": null,
      "outputs": []
    },
    {
      "cell_type": "code",
      "source": [
        "# frecuencias\n",
        "df3.iloc[:,8].apply(lambda x: 1 if x == \"Un poco verdadero\" or x == \"Totalmente verdadero\" else 0).value_counts()"
      ],
      "metadata": {
        "id": "JT_FfYHa2uE-"
      },
      "execution_count": null,
      "outputs": []
    },
    {
      "cell_type": "code",
      "source": [
        "df3.iloc[:,8].apply(lambda x: 1 if x in [\"Un poco verdadero\", \"Totalmente verdadero\"] else 0).value_counts()"
      ],
      "metadata": {
        "id": "utLbbnV724yP"
      },
      "execution_count": null,
      "outputs": []
    },
    {
      "cell_type": "markdown",
      "source": [
        "#### **Ordinales**"
      ],
      "metadata": {
        "id": "vZl5sYT44kmR"
      }
    },
    {
      "cell_type": "code",
      "source": [
        "import numpy as np"
      ],
      "metadata": {
        "id": "0S_1Osru3_RF"
      },
      "execution_count": null,
      "outputs": []
    },
    {
      "cell_type": "code",
      "source": [
        "# niveles\n",
        "pd.unique(df3.iloc[:,8])"
      ],
      "metadata": {
        "id": "VGwsSbrl5KPm"
      },
      "execution_count": null,
      "outputs": []
    },
    {
      "cell_type": "code",
      "source": [
        "# Cuando las condiciones son muchas (5 en este caso), es mejor usar select()\n",
        "condiciones = [\n",
        "    df3.iloc[:,8] == \"Totalmente falso\",\n",
        "    df3.iloc[:,8] == \"Un poco falso\",\n",
        "    df3.iloc[:,8] == \"No lo sé\",\n",
        "    df3.iloc[:,8] == \"Un poco verdadero\",\n",
        "    df3.iloc[:,8] == \"Totalmente verdadero\"\n",
        "]\n",
        "\n",
        "# Hacer coincidir el orden\n",
        "opciones = [1,2,3,4,5]"
      ],
      "metadata": {
        "id": "wnN9HbsE5WE4"
      },
      "execution_count": null,
      "outputs": []
    },
    {
      "cell_type": "code",
      "source": [
        "# usando select\n",
        "ordinal = np.select(\n",
        "    condlist = condiciones,\n",
        "    choicelist = opciones,\n",
        "    default = np.nan\n",
        ")"
      ],
      "metadata": {
        "id": "6_OUMRAh57OM"
      },
      "execution_count": null,
      "outputs": []
    },
    {
      "cell_type": "code",
      "source": [
        "ordinal"
      ],
      "metadata": {
        "id": "tsIJJvR659oT"
      },
      "execution_count": null,
      "outputs": []
    },
    {
      "cell_type": "code",
      "source": [
        "# no confundir return_counts de numpy con value_counts de pandas\n",
        "np.unique(ordinal, return_counts = True)"
      ],
      "metadata": {
        "id": "qbHxR1Fy6eRd"
      },
      "execution_count": null,
      "outputs": []
    },
    {
      "cell_type": "code",
      "source": [
        "# para aplicar value_counts() primero se debe convertir a pd.Series\n",
        "pd.Series(ordinal).value_counts()"
      ],
      "metadata": {
        "id": "hRduDhR_76FT"
      },
      "execution_count": null,
      "outputs": []
    },
    {
      "cell_type": "markdown",
      "source": [
        "#### **Bucles**"
      ],
      "metadata": {
        "id": "VR8cKrFrFoiR"
      }
    },
    {
      "cell_type": "markdown",
      "source": [
        "Forma convencional / standard"
      ],
      "metadata": {
        "id": "rxs4e5WqFq4x"
      }
    },
    {
      "cell_type": "code",
      "source": [
        "# creando df4\n",
        "df4 = df3.copy()"
      ],
      "metadata": {
        "id": "PBrHSoaX8i5W"
      },
      "execution_count": null,
      "outputs": []
    },
    {
      "cell_type": "code",
      "source": [
        "df4.columns"
      ],
      "metadata": {
        "id": "toD63eV3Fx7w"
      },
      "execution_count": null,
      "outputs": []
    },
    {
      "cell_type": "code",
      "source": [
        "# crear una lista vacía\n",
        "frases = []"
      ],
      "metadata": {
        "id": "xsYpcaetF2Av"
      },
      "execution_count": null,
      "outputs": []
    },
    {
      "cell_type": "code",
      "source": [
        "# se ejecuta un blucle para llenar la lista\n",
        "for col in df4.columns:\n",
        "  if col.startswith(\"Según tu\"):\n",
        "    frases.append(col)"
      ],
      "metadata": {
        "id": "Wpv2xZq_GGJv"
      },
      "execution_count": null,
      "outputs": []
    },
    {
      "cell_type": "code",
      "source": [
        "frases"
      ],
      "metadata": {
        "id": "GST8kB9XGoLt"
      },
      "execution_count": null,
      "outputs": []
    },
    {
      "cell_type": "code",
      "source": [
        "# aplicando el bucle para dummitizar, recordemos que creamos la función top2box\n",
        "for frase in frases:\n",
        "  df4[frase] = df4[frase].apply(top2box)"
      ],
      "metadata": {
        "id": "kXwLyGTuG1oM"
      },
      "execution_count": null,
      "outputs": []
    },
    {
      "cell_type": "code",
      "source": [
        "df4[frases]"
      ],
      "metadata": {
        "id": "u5ZiV3SpHUSc"
      },
      "execution_count": null,
      "outputs": []
    },
    {
      "cell_type": "code",
      "source": [
        "df4.iloc[:,8].value_counts()"
      ],
      "metadata": {
        "id": "U5SWCHwiHZqr"
      },
      "execution_count": null,
      "outputs": []
    },
    {
      "cell_type": "markdown",
      "source": [
        "Forma Pythonica"
      ],
      "metadata": {
        "id": "pMo8lCpRIw64"
      }
    },
    {
      "cell_type": "code",
      "source": [
        "# creando df5\n",
        "df5 = df3.copy()"
      ],
      "metadata": {
        "id": "E27_l3FIIhfo"
      },
      "execution_count": null,
      "outputs": []
    },
    {
      "cell_type": "code",
      "source": [
        "# lista vacía\n",
        "frases = []"
      ],
      "metadata": {
        "id": "N_Gq-RAOI5Sf"
      },
      "execution_count": null,
      "outputs": []
    },
    {
      "cell_type": "code",
      "source": [
        "# usando comprehension list\n",
        "frases = [col for col in df5.columns if col.startswith(\"Según tu\")]"
      ],
      "metadata": {
        "id": "t3JoRnSrI-D_"
      },
      "execution_count": null,
      "outputs": []
    },
    {
      "cell_type": "code",
      "source": [
        "frases"
      ],
      "metadata": {
        "id": "pdXvIjpbJfZT"
      },
      "execution_count": null,
      "outputs": []
    },
    {
      "cell_type": "code",
      "source": [
        "# aplicando el bucle para dummitizar, esta vez con lambda, como si la función top2box no existiera\n",
        "for frase in frases:\n",
        "  df5[frase] = df5[frase].apply(lambda x: 1 if x in [\"Un poco verdadero\", \"Totalmente verdadero\"] else 0)"
      ],
      "metadata": {
        "id": "aNc4B9dHJgc1"
      },
      "execution_count": null,
      "outputs": []
    },
    {
      "cell_type": "code",
      "source": [
        "df5[frases]"
      ],
      "metadata": {
        "id": "DY7mYyy-KcAV"
      },
      "execution_count": null,
      "outputs": []
    },
    {
      "cell_type": "code",
      "source": [
        "df5[frases] == df4[frases]"
      ],
      "metadata": {
        "id": "-x00GxwNKejy"
      },
      "execution_count": null,
      "outputs": []
    },
    {
      "cell_type": "markdown",
      "source": [
        "### **Tema 03: Manipulación de datos**"
      ],
      "metadata": {
        "id": "H-1ylVSPLLTp"
      }
    },
    {
      "cell_type": "markdown",
      "source": [
        "#### **Selección de columnas**"
      ],
      "metadata": {
        "id": "1xmVfjuYLgMR"
      }
    },
    {
      "cell_type": "code",
      "source": [
        "df5['Sexo']"
      ],
      "metadata": {
        "id": "O64ozogwKo6T"
      },
      "execution_count": null,
      "outputs": []
    },
    {
      "cell_type": "code",
      "source": [
        "df5[['Sexo']]"
      ],
      "metadata": {
        "id": "OlR2jI8hLw3T"
      },
      "execution_count": null,
      "outputs": []
    },
    {
      "cell_type": "code",
      "source": [
        "# dobles corchetes obligatorios para seleccionar más de una col\n",
        "df5[['Sexo', 'Escribe tu edad exacta']]"
      ],
      "metadata": {
        "id": "R5-br8h3L5oA"
      },
      "execution_count": null,
      "outputs": []
    },
    {
      "cell_type": "code",
      "source": [
        "# eliminar una columna\n",
        "df5.drop(columns='Marca temporal')"
      ],
      "metadata": {
        "id": "0lq-EHozMQc3"
      },
      "execution_count": null,
      "outputs": []
    },
    {
      "cell_type": "code",
      "source": [
        "# seleccionar las cols que comienzan con...\n",
        "df5[[col for col in df5.columns if col.startswith(\"¿Cuánto\")]]"
      ],
      "metadata": {
        "id": "F2ncEOUbMmHm"
      },
      "execution_count": null,
      "outputs": []
    },
    {
      "cell_type": "code",
      "source": [
        "# seleccionar las cols que terminan con...\n",
        "df5[[col for col in df5.columns if col.endswith(\"]\")]]"
      ],
      "metadata": {
        "id": "RxpHUeIEM_ox"
      },
      "execution_count": null,
      "outputs": []
    },
    {
      "cell_type": "code",
      "source": [
        "# contains\n",
        "df5.filter(like='edad', axis=1)"
      ],
      "metadata": {
        "id": "PoLdtRJuNbvt"
      },
      "execution_count": null,
      "outputs": []
    },
    {
      "cell_type": "markdown",
      "source": [
        "#### **Selección de filas**"
      ],
      "metadata": {
        "id": "NI2Yf5gdN9q-"
      }
    },
    {
      "cell_type": "code",
      "source": [
        "# Seleccionar filas cuando Sexo = 'Mujer'\n",
        "df5[df5['Sexo'] == 'Mujer'].head(3)"
      ],
      "metadata": {
        "id": "5QoUKHwmNrAM"
      },
      "execution_count": null,
      "outputs": []
    },
    {
      "cell_type": "code",
      "source": [
        "# Omitir filas cuando Sexo no es igual \"Hombre\"\n",
        "df5[df5['Sexo'] != 'Hombre'].head(3)"
      ],
      "metadata": {
        "id": "uutN0zdaOOr3"
      },
      "execution_count": null,
      "outputs": []
    },
    {
      "cell_type": "code",
      "source": [
        "# Seleccionar filas cuando edad2 es mayor o igual a 20\n",
        "df5[df5['edad2'] >= 20].head(3)"
      ],
      "metadata": {
        "id": "qQCx49cnOUqz"
      },
      "execution_count": null,
      "outputs": []
    },
    {
      "cell_type": "code",
      "source": [
        "# Seleccinar filas cuando edad2 está entre 18 y 21\n",
        "df5[(df5['edad2'] >= 18) & (df5['edad2'] <= 21)].head(3)"
      ],
      "metadata": {
        "id": "jFa9DQCjOb1j"
      },
      "execution_count": null,
      "outputs": []
    },
    {
      "cell_type": "code",
      "source": [
        "# Seleccinar filas cuando edad2 está entre 18 y 21\n",
        "# Seleccionar filas cuando Sexo = 'Mujer'\n",
        "df5[\n",
        "    (df5['edad2'] >= 18) &\n",
        "    (df5['edad2'] <= 21) &\n",
        "    (df5['Sexo'] == 'Mujer')\n",
        "].head(3)"
      ],
      "metadata": {
        "id": "lASgDhDZOg-j"
      },
      "execution_count": null,
      "outputs": []
    },
    {
      "cell_type": "markdown",
      "source": [
        "#### **Renombrando columnas**"
      ],
      "metadata": {
        "id": "38S0Tp_e16eY"
      }
    },
    {
      "cell_type": "code",
      "source": [
        "df6 = df5.copy()"
      ],
      "metadata": {
        "id": "Ga6TB-Sd1lw5"
      },
      "execution_count": null,
      "outputs": []
    },
    {
      "cell_type": "markdown",
      "source": [
        "**APPs**"
      ],
      "metadata": {
        "id": "OBKfNiXb2U0O"
      }
    },
    {
      "cell_type": "code",
      "source": [
        "df6.columns"
      ],
      "metadata": {
        "id": "z7tvQWrc2ACA"
      },
      "execution_count": null,
      "outputs": []
    },
    {
      "cell_type": "markdown",
      "source": [
        "**Paso 1:** Creamos una lista con los nuevos nombres"
      ],
      "metadata": {
        "id": "jZa8aQPJ2eb-"
      }
    },
    {
      "cell_type": "code",
      "source": [
        "apps = [\"TikTok\", \"Instagram\", \"Facebook\", \"YouTube\"]"
      ],
      "metadata": {
        "id": "s8qFp4tu2JzX"
      },
      "execution_count": null,
      "outputs": []
    },
    {
      "cell_type": "markdown",
      "source": [
        "**Paso 2:** Crear un dict que contenga los nombres antiguos como keys y los nuevos como values"
      ],
      "metadata": {
        "id": "vlyLfCmH4I_w"
      }
    },
    {
      "cell_type": "code",
      "source": [
        "# zip() crea tuplas (nombre antiguo, nombre nuevo)\n",
        "# dict() almacena la tupla en un diccionario\n",
        "apps_dict = dict(zip(\n",
        " [col for col in df6.columns if col.startswith(\"¿Cuánto\")],\n",
        " apps\n",
        "))"
      ],
      "metadata": {
        "id": "eGsCY4N12pL2"
      },
      "execution_count": null,
      "outputs": []
    },
    {
      "cell_type": "markdown",
      "source": [
        "**Paso 3:** Renombrando"
      ],
      "metadata": {
        "id": "m5u48tFM4R3f"
      }
    },
    {
      "cell_type": "code",
      "source": [
        "df6.rename(apps_dict, axis=1, inplace=True)"
      ],
      "metadata": {
        "id": "4iNSEz4B4HWf"
      },
      "execution_count": null,
      "outputs": []
    },
    {
      "cell_type": "code",
      "source": [
        "df6.info()"
      ],
      "metadata": {
        "id": "H-NVKFNf2qHt"
      },
      "execution_count": null,
      "outputs": []
    },
    {
      "cell_type": "markdown",
      "source": [
        "**Frases**"
      ],
      "metadata": {
        "id": "3MpsF-tJ20r6"
      }
    },
    {
      "cell_type": "markdown",
      "source": [
        "**Paso 0:** Convertir la lista a Pandas Series"
      ],
      "metadata": {
        "id": "q4rAK-0d3WJk"
      }
    },
    {
      "cell_type": "code",
      "source": [
        "frases2 = pd.Series(frases)"
      ],
      "metadata": {
        "id": "Cgz-Qngz4jM-"
      },
      "execution_count": 103,
      "outputs": []
    },
    {
      "cell_type": "code",
      "source": [],
      "metadata": {
        "id": "U8dyScaU3SFp"
      },
      "execution_count": null,
      "outputs": []
    }
  ]
}